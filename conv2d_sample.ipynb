{
  "nbformat": 4,
  "nbformat_minor": 0,
  "metadata": {
    "colab": {
      "name": "conv2d_sample.ipynb",
      "provenance": [],
      "authorship_tag": "ABX9TyPFh/KBUFycOIJ05QBJ/hRK",
      "include_colab_link": true
    },
    "kernelspec": {
      "name": "python3",
      "display_name": "Python 3"
    },
    "language_info": {
      "name": "python"
    }
  },
  "cells": [
    {
      "cell_type": "markdown",
      "metadata": {
        "id": "view-in-github",
        "colab_type": "text"
      },
      "source": [
        "<a href=\"https://colab.research.google.com/github/yuki-tamaribuchi/ml_code_kata/blob/master/conv2d_sample.ipynb\" target=\"_parent\"><img src=\"https://colab.research.google.com/assets/colab-badge.svg\" alt=\"Open In Colab\"/></a>"
      ]
    },
    {
      "cell_type": "code",
      "metadata": {
        "id": "9RQzZUXimGvQ"
      },
      "source": [
        "import numpy as np\n",
        "from PIL import Image\n",
        "import IPython.display as ipd"
      ],
      "execution_count": 2,
      "outputs": []
    },
    {
      "cell_type": "code",
      "metadata": {
        "colab": {
          "base_uri": "https://localhost:8080/"
        },
        "id": "JKsw4G1doamv",
        "outputId": "14fbb52c-6279-4e7d-f1b6-7d886bed118e"
      },
      "source": [
        "!wget https://bellard.org/bpg/lena30.jpg"
      ],
      "execution_count": 3,
      "outputs": [
        {
          "output_type": "stream",
          "text": [
            "--2021-03-19 04:03:20--  https://bellard.org/bpg/lena30.jpg\n",
            "Resolving bellard.org (bellard.org)... 51.15.168.198\n",
            "Connecting to bellard.org (bellard.org)|51.15.168.198|:443... connected.\n",
            "HTTP request sent, awaiting response... 200 OK\n",
            "Length: 29993 (29K) [image/jpeg]\n",
            "Saving to: ‘lena30.jpg’\n",
            "\n",
            "\rlena30.jpg            0%[                    ]       0  --.-KB/s               \rlena30.jpg          100%[===================>]  29.29K  --.-KB/s    in 0.01s   \n",
            "\n",
            "2021-03-19 04:03:20 (2.15 MB/s) - ‘lena30.jpg’ saved [29993/29993]\n",
            "\n"
          ],
          "name": "stdout"
        }
      ]
    },
    {
      "cell_type": "code",
      "metadata": {
        "id": "Rrh9DVH7puIj"
      },
      "source": [
        "img=np.array(Image.open('lena30.jpg').getdata())"
      ],
      "execution_count": 9,
      "outputs": []
    },
    {
      "cell_type": "code",
      "metadata": {
        "id": "N74ysWuArFXX"
      },
      "source": [
        "img=img/255.0"
      ],
      "execution_count": 11,
      "outputs": []
    },
    {
      "cell_type": "code",
      "metadata": {
        "id": "3_HnpEbrrGUj"
      },
      "source": [
        "img=img.reshape(int(np.sqrt(img.shape[0])),int(np.sqrt(img.shape[0])),3)"
      ],
      "execution_count": 18,
      "outputs": []
    },
    {
      "cell_type": "code",
      "metadata": {
        "id": "fP009XslsnZp"
      },
      "source": [
        "def conv2D(image,kernel,padding=0,strides=1):\n",
        "  kernel=np.flipud(np.fliplr(kernel))\n",
        "\n",
        "  xKernShape = kernel.shape[0]\n",
        "  yKernShape = kernel.shape[1]\n",
        "  xImgShape = image.shape[0]\n",
        "  yImgShape = image.shape[1]\n",
        "\n",
        "  xOutput = int(((xImgShape - xKernShape + 2 * padding) / strides) + 1)\n",
        "  yOutput = int(((yImgShape - yKernShape + 2 * padding) / strides) + 1)\n",
        "  output = np.zeros((xOutput, yOutput))\n",
        "\n",
        "  if padding != 0:\n",
        "    imagePadded = np.zeros((image.shape[0] + padding*2, image.shape[1] + padding*2))\n",
        "    imagePadded[int(padding):int(-1 * padding), int(padding):int(-1 * padding)] = image\n",
        "    print(imagePadded)\n",
        "  else:\n",
        "    imagePadded = image\n",
        "\n",
        "  for y in range(image.shape[1]):\n",
        "\n",
        "    if y > image.shape[1]-yKernShape:\n",
        "      break\n",
        "\n",
        "    if y%strides==0:\n",
        "      for x in range(image.shape[0]):\n",
        "        if x > image.shape[0]-xKernShape:\n",
        "          break\n",
        "        \n",
        "        try:\n",
        "          if x%strides==0:\n",
        "            output[x,y]=(kernel*imagePadded[x:x+xKernShape,y:y+yKernShape]).sum()\n",
        "        except:\n",
        "          break\n",
        "\n",
        "  return output"
      ],
      "execution_count": 28,
      "outputs": []
    },
    {
      "cell_type": "code",
      "metadata": {
        "id": "WA2cwXxcsF0a"
      },
      "source": [
        "kernel=np.array(\n",
        "    [\n",
        "     [0.00,0.00,0.00],\n",
        "     [0.00,1.50,0.00],\n",
        "     [0.00,0.00,0.00]\n",
        "    ]\n",
        ")"
      ],
      "execution_count": 20,
      "outputs": []
    },
    {
      "cell_type": "code",
      "metadata": {
        "id": "UymlgAe5xtOw"
      },
      "source": [
        "def convdisp(image,kernel,padding=0,strides=1):\n",
        "\n",
        "  n=image.shape[2]\n",
        "  output=[]\n",
        "\n",
        "  for i in range(n):\n",
        "    convoluved_img=conv2D(image[:,:,i],kernel,padding,strides)\n",
        "    output.append(convoluved_img)\n",
        "  \n",
        "\n",
        "  output=np.array(output).T\n",
        "  output=output*255\n",
        "  output=output.astype('uint')\n",
        "\n",
        "  \n",
        "\n",
        "  output=Image.fromarray(output,'RGB')\n",
        "  \n",
        "  ipd.display(output)"
      ],
      "execution_count": 110,
      "outputs": []
    }
  ]
}