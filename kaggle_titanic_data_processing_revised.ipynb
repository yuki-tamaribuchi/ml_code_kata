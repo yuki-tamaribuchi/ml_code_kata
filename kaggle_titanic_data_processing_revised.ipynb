{
  "nbformat": 4,
  "nbformat_minor": 0,
  "metadata": {
    "colab": {
      "name": "kaggle_titanic_data_processing_revised.ipynb",
      "provenance": [],
      "collapsed_sections": [],
      "mount_file_id": "1tyzLnXA_MPx_gMoA3A1j0DMVWnPH4WPY",
      "authorship_tag": "ABX9TyO3QX6krJGwHqBVJIlRgmx/",
      "include_colab_link": true
    },
    "kernelspec": {
      "name": "python3",
      "display_name": "Python 3"
    }
  },
  "cells": [
    {
      "cell_type": "markdown",
      "metadata": {
        "id": "view-in-github",
        "colab_type": "text"
      },
      "source": [
        "<a href=\"https://colab.research.google.com/github/yuki-tamaribuchi/ml_code_kata/blob/master/kaggle_titanic_data_processing_revised.ipynb\" target=\"_parent\"><img src=\"https://colab.research.google.com/assets/colab-badge.svg\" alt=\"Open In Colab\"/></a>"
      ]
    },
    {
      "cell_type": "code",
      "metadata": {
        "id": "ZqO9sh7KOOuA",
        "colab": {
          "base_uri": "https://localhost:8080/"
        },
        "outputId": "a740ca1e-d3c7-4ace-e02c-8f12b3632936"
      },
      "source": [
        "!mkdir /root/.kaggle\n",
        "!cp drive/MyDrive/kaggle/kaggle.json /root/.kaggle/kaggle.json"
      ],
      "execution_count": 1,
      "outputs": [
        {
          "output_type": "stream",
          "text": [
            "mkdir: cannot create directory ‘/root/.kaggle’: File exists\n"
          ],
          "name": "stdout"
        }
      ]
    },
    {
      "cell_type": "code",
      "metadata": {
        "colab": {
          "base_uri": "https://localhost:8080/"
        },
        "id": "51Ljt9QlMcu2",
        "outputId": "46f50d56-bb4d-4a15-cbce-5c1704fa38fe"
      },
      "source": [
        "!kaggle competitions download -c titanic"
      ],
      "execution_count": 2,
      "outputs": [
        {
          "output_type": "stream",
          "text": [
            "Warning: Looks like you're using an outdated API Version, please consider updating (server 1.5.10 / client 1.5.4)\n",
            "gender_submission.csv: Skipping, found more recently modified local copy (use --force to force download)\n",
            "train.csv: Skipping, found more recently modified local copy (use --force to force download)\n",
            "test.csv: Skipping, found more recently modified local copy (use --force to force download)\n"
          ],
          "name": "stdout"
        }
      ]
    },
    {
      "cell_type": "code",
      "metadata": {
        "id": "pCPg7D0iOvBP"
      },
      "source": [
        "import numpy as np\n",
        "import pandas as pd"
      ],
      "execution_count": 3,
      "outputs": []
    },
    {
      "cell_type": "code",
      "metadata": {
        "id": "M2T47KFe2T_o"
      },
      "source": [
        "train_df=pd.read_csv('train.csv')"
      ],
      "execution_count": 4,
      "outputs": []
    },
    {
      "cell_type": "code",
      "metadata": {
        "colab": {
          "base_uri": "https://localhost:8080/",
          "height": 206
        },
        "id": "jgpMsr9j2anR",
        "outputId": "cce5900c-4d30-4717-cfd5-a2c075e03425"
      },
      "source": [
        "train_df.head()"
      ],
      "execution_count": 5,
      "outputs": [
        {
          "output_type": "execute_result",
          "data": {
            "text/html": [
              "<div>\n",
              "<style scoped>\n",
              "    .dataframe tbody tr th:only-of-type {\n",
              "        vertical-align: middle;\n",
              "    }\n",
              "\n",
              "    .dataframe tbody tr th {\n",
              "        vertical-align: top;\n",
              "    }\n",
              "\n",
              "    .dataframe thead th {\n",
              "        text-align: right;\n",
              "    }\n",
              "</style>\n",
              "<table border=\"1\" class=\"dataframe\">\n",
              "  <thead>\n",
              "    <tr style=\"text-align: right;\">\n",
              "      <th></th>\n",
              "      <th>PassengerId</th>\n",
              "      <th>Survived</th>\n",
              "      <th>Pclass</th>\n",
              "      <th>Name</th>\n",
              "      <th>Sex</th>\n",
              "      <th>Age</th>\n",
              "      <th>SibSp</th>\n",
              "      <th>Parch</th>\n",
              "      <th>Ticket</th>\n",
              "      <th>Fare</th>\n",
              "      <th>Cabin</th>\n",
              "      <th>Embarked</th>\n",
              "    </tr>\n",
              "  </thead>\n",
              "  <tbody>\n",
              "    <tr>\n",
              "      <th>0</th>\n",
              "      <td>1</td>\n",
              "      <td>0</td>\n",
              "      <td>3</td>\n",
              "      <td>Braund, Mr. Owen Harris</td>\n",
              "      <td>male</td>\n",
              "      <td>22.0</td>\n",
              "      <td>1</td>\n",
              "      <td>0</td>\n",
              "      <td>A/5 21171</td>\n",
              "      <td>7.2500</td>\n",
              "      <td>NaN</td>\n",
              "      <td>S</td>\n",
              "    </tr>\n",
              "    <tr>\n",
              "      <th>1</th>\n",
              "      <td>2</td>\n",
              "      <td>1</td>\n",
              "      <td>1</td>\n",
              "      <td>Cumings, Mrs. John Bradley (Florence Briggs Th...</td>\n",
              "      <td>female</td>\n",
              "      <td>38.0</td>\n",
              "      <td>1</td>\n",
              "      <td>0</td>\n",
              "      <td>PC 17599</td>\n",
              "      <td>71.2833</td>\n",
              "      <td>C85</td>\n",
              "      <td>C</td>\n",
              "    </tr>\n",
              "    <tr>\n",
              "      <th>2</th>\n",
              "      <td>3</td>\n",
              "      <td>1</td>\n",
              "      <td>3</td>\n",
              "      <td>Heikkinen, Miss. Laina</td>\n",
              "      <td>female</td>\n",
              "      <td>26.0</td>\n",
              "      <td>0</td>\n",
              "      <td>0</td>\n",
              "      <td>STON/O2. 3101282</td>\n",
              "      <td>7.9250</td>\n",
              "      <td>NaN</td>\n",
              "      <td>S</td>\n",
              "    </tr>\n",
              "    <tr>\n",
              "      <th>3</th>\n",
              "      <td>4</td>\n",
              "      <td>1</td>\n",
              "      <td>1</td>\n",
              "      <td>Futrelle, Mrs. Jacques Heath (Lily May Peel)</td>\n",
              "      <td>female</td>\n",
              "      <td>35.0</td>\n",
              "      <td>1</td>\n",
              "      <td>0</td>\n",
              "      <td>113803</td>\n",
              "      <td>53.1000</td>\n",
              "      <td>C123</td>\n",
              "      <td>S</td>\n",
              "    </tr>\n",
              "    <tr>\n",
              "      <th>4</th>\n",
              "      <td>5</td>\n",
              "      <td>0</td>\n",
              "      <td>3</td>\n",
              "      <td>Allen, Mr. William Henry</td>\n",
              "      <td>male</td>\n",
              "      <td>35.0</td>\n",
              "      <td>0</td>\n",
              "      <td>0</td>\n",
              "      <td>373450</td>\n",
              "      <td>8.0500</td>\n",
              "      <td>NaN</td>\n",
              "      <td>S</td>\n",
              "    </tr>\n",
              "  </tbody>\n",
              "</table>\n",
              "</div>"
            ],
            "text/plain": [
              "   PassengerId  Survived  Pclass  ...     Fare Cabin  Embarked\n",
              "0            1         0       3  ...   7.2500   NaN         S\n",
              "1            2         1       1  ...  71.2833   C85         C\n",
              "2            3         1       3  ...   7.9250   NaN         S\n",
              "3            4         1       1  ...  53.1000  C123         S\n",
              "4            5         0       3  ...   8.0500   NaN         S\n",
              "\n",
              "[5 rows x 12 columns]"
            ]
          },
          "metadata": {
            "tags": []
          },
          "execution_count": 5
        }
      ]
    },
    {
      "cell_type": "code",
      "metadata": {
        "colab": {
          "base_uri": "https://localhost:8080/"
        },
        "id": "oV0CaMsV2czY",
        "outputId": "e69b085d-928a-4954-cec9-e23004c16346"
      },
      "source": [
        "train_df.info()"
      ],
      "execution_count": 6,
      "outputs": [
        {
          "output_type": "stream",
          "text": [
            "<class 'pandas.core.frame.DataFrame'>\n",
            "RangeIndex: 891 entries, 0 to 890\n",
            "Data columns (total 12 columns):\n",
            " #   Column       Non-Null Count  Dtype  \n",
            "---  ------       --------------  -----  \n",
            " 0   PassengerId  891 non-null    int64  \n",
            " 1   Survived     891 non-null    int64  \n",
            " 2   Pclass       891 non-null    int64  \n",
            " 3   Name         891 non-null    object \n",
            " 4   Sex          891 non-null    object \n",
            " 5   Age          714 non-null    float64\n",
            " 6   SibSp        891 non-null    int64  \n",
            " 7   Parch        891 non-null    int64  \n",
            " 8   Ticket       891 non-null    object \n",
            " 9   Fare         891 non-null    float64\n",
            " 10  Cabin        204 non-null    object \n",
            " 11  Embarked     889 non-null    object \n",
            "dtypes: float64(2), int64(5), object(5)\n",
            "memory usage: 83.7+ KB\n"
          ],
          "name": "stdout"
        }
      ]
    },
    {
      "cell_type": "code",
      "metadata": {
        "colab": {
          "base_uri": "https://localhost:8080/",
          "height": 300
        },
        "id": "a9ZxGfGf2evl",
        "outputId": "47836fd5-d722-4a60-f6b9-091489fa3d2e"
      },
      "source": [
        "train_df.describe()"
      ],
      "execution_count": 7,
      "outputs": [
        {
          "output_type": "execute_result",
          "data": {
            "text/html": [
              "<div>\n",
              "<style scoped>\n",
              "    .dataframe tbody tr th:only-of-type {\n",
              "        vertical-align: middle;\n",
              "    }\n",
              "\n",
              "    .dataframe tbody tr th {\n",
              "        vertical-align: top;\n",
              "    }\n",
              "\n",
              "    .dataframe thead th {\n",
              "        text-align: right;\n",
              "    }\n",
              "</style>\n",
              "<table border=\"1\" class=\"dataframe\">\n",
              "  <thead>\n",
              "    <tr style=\"text-align: right;\">\n",
              "      <th></th>\n",
              "      <th>PassengerId</th>\n",
              "      <th>Survived</th>\n",
              "      <th>Pclass</th>\n",
              "      <th>Age</th>\n",
              "      <th>SibSp</th>\n",
              "      <th>Parch</th>\n",
              "      <th>Fare</th>\n",
              "    </tr>\n",
              "  </thead>\n",
              "  <tbody>\n",
              "    <tr>\n",
              "      <th>count</th>\n",
              "      <td>891.000000</td>\n",
              "      <td>891.000000</td>\n",
              "      <td>891.000000</td>\n",
              "      <td>714.000000</td>\n",
              "      <td>891.000000</td>\n",
              "      <td>891.000000</td>\n",
              "      <td>891.000000</td>\n",
              "    </tr>\n",
              "    <tr>\n",
              "      <th>mean</th>\n",
              "      <td>446.000000</td>\n",
              "      <td>0.383838</td>\n",
              "      <td>2.308642</td>\n",
              "      <td>29.699118</td>\n",
              "      <td>0.523008</td>\n",
              "      <td>0.381594</td>\n",
              "      <td>32.204208</td>\n",
              "    </tr>\n",
              "    <tr>\n",
              "      <th>std</th>\n",
              "      <td>257.353842</td>\n",
              "      <td>0.486592</td>\n",
              "      <td>0.836071</td>\n",
              "      <td>14.526497</td>\n",
              "      <td>1.102743</td>\n",
              "      <td>0.806057</td>\n",
              "      <td>49.693429</td>\n",
              "    </tr>\n",
              "    <tr>\n",
              "      <th>min</th>\n",
              "      <td>1.000000</td>\n",
              "      <td>0.000000</td>\n",
              "      <td>1.000000</td>\n",
              "      <td>0.420000</td>\n",
              "      <td>0.000000</td>\n",
              "      <td>0.000000</td>\n",
              "      <td>0.000000</td>\n",
              "    </tr>\n",
              "    <tr>\n",
              "      <th>25%</th>\n",
              "      <td>223.500000</td>\n",
              "      <td>0.000000</td>\n",
              "      <td>2.000000</td>\n",
              "      <td>20.125000</td>\n",
              "      <td>0.000000</td>\n",
              "      <td>0.000000</td>\n",
              "      <td>7.910400</td>\n",
              "    </tr>\n",
              "    <tr>\n",
              "      <th>50%</th>\n",
              "      <td>446.000000</td>\n",
              "      <td>0.000000</td>\n",
              "      <td>3.000000</td>\n",
              "      <td>28.000000</td>\n",
              "      <td>0.000000</td>\n",
              "      <td>0.000000</td>\n",
              "      <td>14.454200</td>\n",
              "    </tr>\n",
              "    <tr>\n",
              "      <th>75%</th>\n",
              "      <td>668.500000</td>\n",
              "      <td>1.000000</td>\n",
              "      <td>3.000000</td>\n",
              "      <td>38.000000</td>\n",
              "      <td>1.000000</td>\n",
              "      <td>0.000000</td>\n",
              "      <td>31.000000</td>\n",
              "    </tr>\n",
              "    <tr>\n",
              "      <th>max</th>\n",
              "      <td>891.000000</td>\n",
              "      <td>1.000000</td>\n",
              "      <td>3.000000</td>\n",
              "      <td>80.000000</td>\n",
              "      <td>8.000000</td>\n",
              "      <td>6.000000</td>\n",
              "      <td>512.329200</td>\n",
              "    </tr>\n",
              "  </tbody>\n",
              "</table>\n",
              "</div>"
            ],
            "text/plain": [
              "       PassengerId    Survived      Pclass  ...       SibSp       Parch        Fare\n",
              "count   891.000000  891.000000  891.000000  ...  891.000000  891.000000  891.000000\n",
              "mean    446.000000    0.383838    2.308642  ...    0.523008    0.381594   32.204208\n",
              "std     257.353842    0.486592    0.836071  ...    1.102743    0.806057   49.693429\n",
              "min       1.000000    0.000000    1.000000  ...    0.000000    0.000000    0.000000\n",
              "25%     223.500000    0.000000    2.000000  ...    0.000000    0.000000    7.910400\n",
              "50%     446.000000    0.000000    3.000000  ...    0.000000    0.000000   14.454200\n",
              "75%     668.500000    1.000000    3.000000  ...    1.000000    0.000000   31.000000\n",
              "max     891.000000    1.000000    3.000000  ...    8.000000    6.000000  512.329200\n",
              "\n",
              "[8 rows x 7 columns]"
            ]
          },
          "metadata": {
            "tags": []
          },
          "execution_count": 7
        }
      ]
    },
    {
      "cell_type": "code",
      "metadata": {
        "id": "ZcdlSG7V4jWu"
      },
      "source": [
        "def preprocess_data(input_df):\n",
        "  input_df['Age']=input_df['Age'].fillna(input_df['Age'].mean())\n",
        "\n",
        "  sex_dummies=pd.get_dummies(input_df['Sex'],prefix='sex')\n",
        "  pclass_dummies=pd.get_dummies(input_df['Pclass'],prefix='pclass')\n",
        "  embarked_dummies=pd.get_dummies(input_df['Embarked'],'embarked')\n",
        "\n",
        "  input_df=input_df.drop(['PassengerId','Name','Ticket','Cabin','Age','Pclass','Embarked','Sex'],axis=1)\n",
        "\n",
        "  new_df=pd.concat([input_df,sex_dummies,pclass_dummies,embarked_dummies],axis=1)\n",
        "\n",
        "  print(new_df.head())\n",
        "  print(new_df.info())\n",
        "\n",
        "  return new_df"
      ],
      "execution_count": 8,
      "outputs": []
    },
    {
      "cell_type": "code",
      "metadata": {
        "colab": {
          "base_uri": "https://localhost:8080/"
        },
        "id": "NWdTS98D7v41",
        "outputId": "773be105-9d0f-4834-903b-844071dac6fd"
      },
      "source": [
        "new_train_df=preprocess_data(train_df)"
      ],
      "execution_count": 9,
      "outputs": [
        {
          "output_type": "stream",
          "text": [
            "   Survived  SibSp  Parch  ...  embarked_C  embarked_Q  embarked_S\n",
            "0         0      1      0  ...           0           0           1\n",
            "1         1      1      0  ...           1           0           0\n",
            "2         1      0      0  ...           0           0           1\n",
            "3         1      1      0  ...           0           0           1\n",
            "4         0      0      0  ...           0           0           1\n",
            "\n",
            "[5 rows x 12 columns]\n",
            "<class 'pandas.core.frame.DataFrame'>\n",
            "RangeIndex: 891 entries, 0 to 890\n",
            "Data columns (total 12 columns):\n",
            " #   Column      Non-Null Count  Dtype  \n",
            "---  ------      --------------  -----  \n",
            " 0   Survived    891 non-null    int64  \n",
            " 1   SibSp       891 non-null    int64  \n",
            " 2   Parch       891 non-null    int64  \n",
            " 3   Fare        891 non-null    float64\n",
            " 4   sex_female  891 non-null    uint8  \n",
            " 5   sex_male    891 non-null    uint8  \n",
            " 6   pclass_1    891 non-null    uint8  \n",
            " 7   pclass_2    891 non-null    uint8  \n",
            " 8   pclass_3    891 non-null    uint8  \n",
            " 9   embarked_C  891 non-null    uint8  \n",
            " 10  embarked_Q  891 non-null    uint8  \n",
            " 11  embarked_S  891 non-null    uint8  \n",
            "dtypes: float64(1), int64(3), uint8(8)\n",
            "memory usage: 34.9 KB\n",
            "None\n"
          ],
          "name": "stdout"
        }
      ]
    },
    {
      "cell_type": "code",
      "metadata": {
        "id": "-vqFhbhi70MC"
      },
      "source": [
        "def calc_vif(input_df):\n",
        "  from statsmodels.stats.outliers_influence import variance_inflation_factor\n",
        "  vif=pd.DataFrame()\n",
        "  vif['VIF Factor']=[variance_inflation_factor(input_df.values,i) for i in range(input_df.shape[1])]\n",
        "  vif['features']=input_df.columns\n",
        "\n",
        "  print(vif)"
      ],
      "execution_count": 10,
      "outputs": []
    },
    {
      "cell_type": "code",
      "metadata": {
        "colab": {
          "base_uri": "https://localhost:8080/"
        },
        "id": "szu9SzuH8wAX",
        "outputId": "bb1a03a4-4cc8-4165-a7eb-cef69537cf62"
      },
      "source": [
        "calc_vif(new_train_df)"
      ],
      "execution_count": 11,
      "outputs": [
        {
          "output_type": "stream",
          "text": [
            "/usr/local/lib/python3.6/dist-packages/statsmodels/tools/_testing.py:19: FutureWarning: pandas.util.testing is deprecated. Use the functions in the public API at pandas.testing instead.\n",
            "  import pandas.util.testing as tm\n"
          ],
          "name": "stderr"
        },
        {
          "output_type": "stream",
          "text": [
            "    VIF Factor    features\n",
            "0     1.610045    Survived\n",
            "1     1.261264       SibSp\n",
            "2     1.330508       Parch\n",
            "3     1.764598        Fare\n",
            "4          inf  sex_female\n",
            "5          inf    sex_male\n",
            "6          inf    pclass_1\n",
            "7          inf    pclass_2\n",
            "8          inf    pclass_3\n",
            "9    69.485781  embarked_C\n",
            "10   36.649609  embarked_Q\n",
            "11   90.855168  embarked_S\n"
          ],
          "name": "stdout"
        },
        {
          "output_type": "stream",
          "text": [
            "/usr/local/lib/python3.6/dist-packages/statsmodels/stats/outliers_influence.py:185: RuntimeWarning: divide by zero encountered in double_scalars\n",
            "  vif = 1. / (1. - r_squared_i)\n"
          ],
          "name": "stderr"
        }
      ]
    },
    {
      "cell_type": "code",
      "metadata": {
        "id": "QUKcH1qB80Kc"
      },
      "source": [
        "def solve_vif(input_df,delete_columns):\n",
        "  new_df=input_df.drop(delete_columns,axis=1)\n",
        "  print(new_df.info())\n",
        "  return new_df"
      ],
      "execution_count": 12,
      "outputs": []
    },
    {
      "cell_type": "code",
      "metadata": {
        "colab": {
          "base_uri": "https://localhost:8080/"
        },
        "id": "I-XvPdCo9pA7",
        "outputId": "2f23bed3-0e28-4b4b-b8c0-934b0d5573a5"
      },
      "source": [
        "delete_columns=['sex_male','pclass_1','embarked_Q']\n",
        "new_train_df=solve_vif(new_train_df,delete_columns)"
      ],
      "execution_count": 13,
      "outputs": [
        {
          "output_type": "stream",
          "text": [
            "<class 'pandas.core.frame.DataFrame'>\n",
            "RangeIndex: 891 entries, 0 to 890\n",
            "Data columns (total 9 columns):\n",
            " #   Column      Non-Null Count  Dtype  \n",
            "---  ------      --------------  -----  \n",
            " 0   Survived    891 non-null    int64  \n",
            " 1   SibSp       891 non-null    int64  \n",
            " 2   Parch       891 non-null    int64  \n",
            " 3   Fare        891 non-null    float64\n",
            " 4   sex_female  891 non-null    uint8  \n",
            " 5   pclass_2    891 non-null    uint8  \n",
            " 6   pclass_3    891 non-null    uint8  \n",
            " 7   embarked_C  891 non-null    uint8  \n",
            " 8   embarked_S  891 non-null    uint8  \n",
            "dtypes: float64(1), int64(3), uint8(5)\n",
            "memory usage: 32.3 KB\n",
            "None\n"
          ],
          "name": "stdout"
        }
      ]
    },
    {
      "cell_type": "code",
      "metadata": {
        "colab": {
          "base_uri": "https://localhost:8080/"
        },
        "id": "py2yqieX9-MT",
        "outputId": "325ecd84-51e2-4d92-8aac-23bea7b9dc23"
      },
      "source": [
        "calc_vif(new_train_df)"
      ],
      "execution_count": 14,
      "outputs": [
        {
          "output_type": "stream",
          "text": [
            "   VIF Factor    features\n",
            "0    2.488214    Survived\n",
            "1    1.544793       SibSp\n",
            "2    1.604568       Parch\n",
            "3    2.132819        Fare\n",
            "4    2.358268  sex_female\n",
            "5    1.976080    pclass_2\n",
            "6    3.055746    pclass_3\n",
            "7    1.925132  embarked_C\n",
            "8    4.377043  embarked_S\n"
          ],
          "name": "stdout"
        }
      ]
    },
    {
      "cell_type": "code",
      "metadata": {
        "id": "BowC4pTBCZ9v"
      },
      "source": [
        "def my_train_test_split(input_df,input_label_df=None,label_column=None,test_size=0.25,random_state=None,shuffle=False):\n",
        "  from sklearn.model_selection import train_test_split\n",
        "\n",
        "  if input_label_df:\n",
        "    label_df=input_label_df\n",
        "\n",
        "  if label_column:\n",
        "    label_df=input_df[label_column]\n",
        "    input_df=input_df.drop([label_column],axis=1)\n",
        "\n",
        "  X_train,X_test,y_train,y_test=train_test_split(input_df,label_df,test_size=test_size,random_state=random_state,shuffle=shuffle)\n",
        "\n",
        "  train_df=pd.concat([X_train,y_train],axis=1)\n",
        "  test_df=pd.concat([X_test,y_test],axis=1)\n",
        "\n",
        "  print('Train data size:',train_df.shape)\n",
        "  print('Test data size:',test_df.shape)\n",
        "  return (train_df,test_df)"
      ],
      "execution_count": 15,
      "outputs": []
    },
    {
      "cell_type": "code",
      "metadata": {
        "colab": {
          "base_uri": "https://localhost:8080/"
        },
        "id": "DOZFy1FVHJBQ",
        "outputId": "95e1a20c-db00-4aed-c14a-274f7402434c"
      },
      "source": [
        "train_df,test_df=my_train_test_split(new_train_df,label_column='Survived')"
      ],
      "execution_count": 16,
      "outputs": [
        {
          "output_type": "stream",
          "text": [
            "Train data size: (668, 9)\n",
            "Test data size: (223, 9)\n"
          ],
          "name": "stdout"
        }
      ]
    },
    {
      "cell_type": "code",
      "metadata": {
        "id": "VZ6u-3dU-G7u"
      },
      "source": [
        "def my_standardscaler(input_df,scaler,mode,label_column=None):\n",
        "\n",
        "  if label_column:\n",
        "    label_df=input_df[label_column]\n",
        "    input_df=input_df.drop([label_column],axis=1)\n",
        "\n",
        "\n",
        "  if mode=='FT':\n",
        "    new_df=pd.DataFrame(scaler.fit_transform(input_df),columns=input_df.columns)\n",
        "  elif mode=='T':\n",
        "    new_df=pd.DataFrame(scaler.transform(input_df),columns=input_df.columns)\n",
        "  else:\n",
        "    print('Please select mode:FT(fit_transform) or T(transform).')\n",
        "\n",
        "\n",
        "\n",
        "  if label_column:\n",
        "    new_df=pd.concat([new_df.reset_index(drop=True),label_df.reset_index(drop=True)],axis=1)\n",
        "\n",
        "\n",
        "  print('Data size:',new_df.shape)\n",
        "  print(new_df.head())\n",
        "  print(new_df.info())\n",
        "  print(new_df.describe())\n",
        "  return new_df"
      ],
      "execution_count": 17,
      "outputs": []
    },
    {
      "cell_type": "code",
      "metadata": {
        "id": "3DqNQC4IKuom"
      },
      "source": [
        "from sklearn.preprocessing import StandardScaler\n",
        "scaler=StandardScaler()"
      ],
      "execution_count": 18,
      "outputs": []
    },
    {
      "cell_type": "code",
      "metadata": {
        "colab": {
          "base_uri": "https://localhost:8080/"
        },
        "id": "T7WHhklyA77Q",
        "outputId": "2b044e3b-6f34-4ef0-e7f7-99ad4c823bbb"
      },
      "source": [
        "scaled_train_df=my_standardscaler(train_df,scaler,'FT',label_column='Survived')"
      ],
      "execution_count": 19,
      "outputs": [
        {
          "output_type": "stream",
          "text": [
            "Data size: (668, 9)\n",
            "      SibSp    Parch      Fare  ...  embarked_C  embarked_S  Survived\n",
            "0  0.437230 -0.47473 -0.538655  ...   -0.486864    0.630468         0\n",
            "1  0.437230 -0.47473  0.887760  ...    2.053960   -1.586124         1\n",
            "2 -0.498891 -0.47473 -0.523619  ...   -0.486864    0.630468         1\n",
            "3  0.437230 -0.47473  0.482706  ...   -0.486864    0.630468         1\n",
            "4 -0.498891 -0.47473 -0.520834  ...   -0.486864    0.630468         0\n",
            "\n",
            "[5 rows x 9 columns]\n",
            "<class 'pandas.core.frame.DataFrame'>\n",
            "RangeIndex: 668 entries, 0 to 667\n",
            "Data columns (total 9 columns):\n",
            " #   Column      Non-Null Count  Dtype  \n",
            "---  ------      --------------  -----  \n",
            " 0   SibSp       668 non-null    float64\n",
            " 1   Parch       668 non-null    float64\n",
            " 2   Fare        668 non-null    float64\n",
            " 3   sex_female  668 non-null    float64\n",
            " 4   pclass_2    668 non-null    float64\n",
            " 5   pclass_3    668 non-null    float64\n",
            " 6   embarked_C  668 non-null    float64\n",
            " 7   embarked_S  668 non-null    float64\n",
            " 8   Survived    668 non-null    int64  \n",
            "dtypes: float64(8), int64(1)\n",
            "memory usage: 47.1 KB\n",
            "None\n",
            "              SibSp         Parch  ...    embarked_S    Survived\n",
            "count  6.680000e+02  6.680000e+02  ...  6.680000e+02  668.000000\n",
            "mean  -6.154425e-16  2.227094e-17  ... -3.157820e-17    0.389222\n",
            "std    1.000749e+00  1.000749e+00  ...  1.000749e+00    0.487939\n",
            "min   -4.988912e-01 -4.747302e-01  ... -1.586124e+00    0.000000\n",
            "25%   -4.988912e-01 -4.747302e-01  ... -1.586124e+00    0.000000\n",
            "50%   -4.988912e-01 -4.747302e-01  ...  6.304677e-01    0.000000\n",
            "75%    4.372304e-01 -4.747302e-01  ...  6.304677e-01    1.000000\n",
            "max    6.990082e+00  5.792459e+00  ...  6.304677e-01    1.000000\n",
            "\n",
            "[8 rows x 9 columns]\n"
          ],
          "name": "stdout"
        }
      ]
    },
    {
      "cell_type": "code",
      "metadata": {
        "colab": {
          "base_uri": "https://localhost:8080/"
        },
        "id": "bGW52LpvBCLf",
        "outputId": "f3a4ba99-bd86-462e-eaf7-f5de9aad5c1a"
      },
      "source": [
        "scaled_test_df=my_standardscaler(test_df,scaler,'T',label_column='Survived')"
      ],
      "execution_count": 20,
      "outputs": [
        {
          "output_type": "stream",
          "text": [
            "Data size: (223, 9)\n",
            "      SibSp     Parch      Fare  ...  embarked_C  embarked_S  Survived\n",
            "0 -0.498891 -0.474730 -0.520834  ...   -0.486864    0.630468         0\n",
            "1  0.437230 -0.474730  0.458202  ...   -0.486864    0.630468         1\n",
            "2  0.437230  0.778708  0.168612  ...   -0.486864    0.630468         1\n",
            "3  0.437230 -0.474730  0.458202  ...   -0.486864    0.630468         0\n",
            "4 -0.498891 -0.474730 -0.466257  ...   -0.486864    0.630468         0\n",
            "\n",
            "[5 rows x 9 columns]\n",
            "<class 'pandas.core.frame.DataFrame'>\n",
            "RangeIndex: 223 entries, 0 to 222\n",
            "Data columns (total 9 columns):\n",
            " #   Column      Non-Null Count  Dtype  \n",
            "---  ------      --------------  -----  \n",
            " 0   SibSp       223 non-null    float64\n",
            " 1   Parch       223 non-null    float64\n",
            " 2   Fare        223 non-null    float64\n",
            " 3   sex_female  223 non-null    float64\n",
            " 4   pclass_2    223 non-null    float64\n",
            " 5   pclass_3    223 non-null    float64\n",
            " 6   embarked_C  223 non-null    float64\n",
            " 7   embarked_S  223 non-null    float64\n",
            " 8   Survived    223 non-null    int64  \n",
            "dtypes: float64(8), int64(1)\n",
            "memory usage: 15.8 KB\n",
            "None\n",
            "            SibSp       Parch        Fare  ...  embarked_C  embarked_S    Survived\n",
            "count  223.000000  223.000000  223.000000  ...  223.000000  223.000000  223.000000\n",
            "mean    -0.037127    0.014279    0.068836  ...   -0.031111    0.063895    0.367713\n",
            "std      1.123451    1.040770    1.378426  ...    0.977015    0.969055    0.483267\n",
            "min     -0.498891   -0.474730   -0.700157  ...   -0.486864   -1.586124    0.000000\n",
            "25%     -0.498891   -0.474730   -0.524269  ...   -0.486864   -1.586124    0.000000\n",
            "50%     -0.498891   -0.474730   -0.410567  ...   -0.486864    0.630468    0.000000\n",
            "75%      0.437230    0.151989    0.015742  ...   -0.486864    0.630468    1.000000\n",
            "max      6.990082    7.045896   10.712558  ...    2.053960    0.630468    1.000000\n",
            "\n",
            "[8 rows x 9 columns]\n"
          ],
          "name": "stdout"
        }
      ]
    }
  ]
}