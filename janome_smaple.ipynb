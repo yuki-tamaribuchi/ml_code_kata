{
  "nbformat": 4,
  "nbformat_minor": 0,
  "metadata": {
    "colab": {
      "name": "janome_smaple.ipynb",
      "provenance": [],
      "authorship_tag": "ABX9TyMWMxMr2RCkziwvDMzUGQKP",
      "include_colab_link": true
    },
    "kernelspec": {
      "name": "python3",
      "display_name": "Python 3"
    }
  },
  "cells": [
    {
      "cell_type": "markdown",
      "metadata": {
        "id": "view-in-github",
        "colab_type": "text"
      },
      "source": [
        "<a href=\"https://colab.research.google.com/github/yuki-tamaribuchi/ml_code_kata/blob/master/janome_smaple.ipynb\" target=\"_parent\"><img src=\"https://colab.research.google.com/assets/colab-badge.svg\" alt=\"Open In Colab\"/></a>"
      ]
    },
    {
      "cell_type": "code",
      "metadata": {
        "colab": {
          "base_uri": "https://localhost:8080/"
        },
        "id": "uMNTtVuI0GSA",
        "outputId": "8994997c-0ba6-4eac-8db4-972e518e13bb"
      },
      "source": [
        "!pip install janome"
      ],
      "execution_count": 2,
      "outputs": [
        {
          "output_type": "stream",
          "text": [
            "Collecting janome\n",
            "\u001b[?25l  Downloading https://files.pythonhosted.org/packages/a8/63/98858cbead27df7536c7e300c169da0999e9704d02220dc6700b804eeff0/Janome-0.4.1-py2.py3-none-any.whl (19.7MB)\n",
            "\u001b[K     |████████████████████████████████| 19.7MB 1.5MB/s \n",
            "\u001b[?25hInstalling collected packages: janome\n",
            "Successfully installed janome-0.4.1\n"
          ],
          "name": "stdout"
        }
      ]
    },
    {
      "cell_type": "code",
      "metadata": {
        "id": "e9fYYOhxz8fA"
      },
      "source": [
        "import janome\n",
        "from janome.tokenizer import Tokenizer"
      ],
      "execution_count": 7,
      "outputs": []
    },
    {
      "cell_type": "code",
      "metadata": {
        "colab": {
          "base_uri": "https://localhost:8080/"
        },
        "id": "hnnThOJj0E-x",
        "outputId": "9e1f6968-3e96-4f70-a8bf-86ce28f282ed"
      },
      "source": [
        "t=Tokenizer()\n",
        "for token in t.tokenize('たかだか大麻 ガタガタぬかすな'):\n",
        "  print(token)"
      ],
      "execution_count": 10,
      "outputs": [
        {
          "output_type": "stream",
          "text": [
            "たかだか\t連体詞,*,*,*,*,*,たかだか,タカダカ,タカダカ\n",
            "大麻\t名詞,一般,*,*,*,*,大麻,タイマ,タイマ\n",
            " \t記号,空白,*,*,*,*, ,*,*\n",
            "ガタガタ\t名詞,一般,*,*,*,*,ガタガタ,ガタガタ,ガタガタ\n",
            "ぬかす\t動詞,自立,*,*,五段・サ行,基本形,ぬかす,ヌカス,ヌカス\n",
            "な\t助詞,終助詞,*,*,*,*,な,ナ,ナ\n"
          ],
          "name": "stdout"
        }
      ]
    },
    {
      "cell_type": "code",
      "metadata": {
        "id": "QOnSb-c_0sPF"
      },
      "source": [
        ""
      ],
      "execution_count": null,
      "outputs": []
    }
  ]
}