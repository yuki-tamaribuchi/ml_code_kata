{
  "nbformat": 4,
  "nbformat_minor": 0,
  "metadata": {
    "colab": {
      "name": "livedoor_text_sample.ipynb",
      "provenance": [],
      "mount_file_id": "10PH5ONQzzC8t2rWIVQQ_z8AxSlDa9s4q",
      "authorship_tag": "ABX9TyMypoSGGZBL6Qdw6bt4INWH",
      "include_colab_link": true
    },
    "kernelspec": {
      "display_name": "Python 3",
      "name": "python3"
    }
  },
  "cells": [
    {
      "cell_type": "markdown",
      "metadata": {
        "id": "view-in-github",
        "colab_type": "text"
      },
      "source": [
        "<a href=\"https://colab.research.google.com/github/yuki-tamaribuchi/ml_code_kata/blob/master/livedoor_text_sample.ipynb\" target=\"_parent\"><img src=\"https://colab.research.google.com/assets/colab-badge.svg\" alt=\"Open In Colab\"/></a>"
      ]
    },
    {
      "cell_type": "code",
      "metadata": {
        "colab": {
          "base_uri": "https://localhost:8080/"
        },
        "id": "DyltHIy4k-JA",
        "outputId": "73a45d80-80a0-4aee-8174-e1dae8d940c5"
      },
      "source": [
        "!pip install janome jaconv"
      ],
      "execution_count": 1,
      "outputs": [
        {
          "output_type": "stream",
          "text": [
            "Collecting janome\n",
            "\u001b[?25l  Downloading https://files.pythonhosted.org/packages/a8/63/98858cbead27df7536c7e300c169da0999e9704d02220dc6700b804eeff0/Janome-0.4.1-py2.py3-none-any.whl (19.7MB)\n",
            "\u001b[K     |████████████████████████████████| 19.7MB 5.4MB/s \n",
            "\u001b[?25hCollecting jaconv\n",
            "  Downloading https://files.pythonhosted.org/packages/b0/9e/cf1353fb3e81a177bb52ca59a0ebee425f084b7298039a7965c5414d2d62/jaconv-0.2.4.tar.gz\n",
            "Building wheels for collected packages: jaconv\n",
            "  Building wheel for jaconv (setup.py) ... \u001b[?25l\u001b[?25hdone\n",
            "  Created wheel for jaconv: filename=jaconv-0.2.4-cp36-none-any.whl size=12286 sha256=4bffebe3449fd83f7928d991b3b560ca1235139190440e3be1e23aa2b65e9917\n",
            "  Stored in directory: /root/.cache/pip/wheels/e1/46/f7/85a7f89bd3263423c8530dfed16083f9a142cc0fc78c81ff32\n",
            "Successfully built jaconv\n",
            "Installing collected packages: janome, jaconv\n",
            "Successfully installed jaconv-0.2.4 janome-0.4.1\n"
          ],
          "name": "stdout"
        }
      ]
    },
    {
      "cell_type": "code",
      "metadata": {
        "colab": {
          "base_uri": "https://localhost:8080/"
        },
        "id": "j3_Jp1CIkcJe",
        "outputId": "fd2d2ba2-3160-49fc-f715-c37b2a534a06"
      },
      "source": [
        "!mkdir dic\n",
        "\n",
        "#単語感情極性対応表\n",
        "#http://www.lr.pi.titech.ac.jp/%7Etakamura/pndic_ja.html\n",
        "!wget -P dic http://www.lr.pi.titech.ac.jp/%7Etakamura/pubs/pn_ja.dic"
      ],
      "execution_count": 2,
      "outputs": [
        {
          "output_type": "stream",
          "text": [
            "--2021-02-03 11:24:07--  http://www.lr.pi.titech.ac.jp/%7Etakamura/pubs/pn_ja.dic\n",
            "Resolving www.lr.pi.titech.ac.jp (www.lr.pi.titech.ac.jp)... 131.112.138.3\n",
            "Connecting to www.lr.pi.titech.ac.jp (www.lr.pi.titech.ac.jp)|131.112.138.3|:80... connected.\n",
            "HTTP request sent, awaiting response... 200 OK\n",
            "Length: 1723987 (1.6M)\n",
            "Saving to: ‘dic/pn_ja.dic’\n",
            "\n",
            "pn_ja.dic           100%[===================>]   1.64M  2.15MB/s    in 0.8s    \n",
            "\n",
            "2021-02-03 11:24:08 (2.15 MB/s) - ‘dic/pn_ja.dic’ saved [1723987/1723987]\n",
            "\n"
          ],
          "name": "stdout"
        }
      ]
    },
    {
      "cell_type": "code",
      "metadata": {
        "id": "Ttd-OWipjnwo"
      },
      "source": [
        "import pandas as pd\n",
        "import numpy as np\n",
        "import pathlib\n",
        "import glob\n",
        "import janome\n",
        "import jaconv\n",
        "import re"
      ],
      "execution_count": 3,
      "outputs": []
    },
    {
      "cell_type": "code",
      "metadata": {
        "id": "UGG58FW0mPHL"
      },
      "source": [
        "\n",
        "p_dic=pathlib.Path('dic')\n",
        "for i in p_dic.glob('*.dic'):\n",
        "  with open(i,'r',encoding='cp932') as f:\n",
        "    x=[ii.replace('\\n','').split(':') for ii in f.readlines()]\n",
        "\n",
        "posi_nega_df = pd.DataFrame(x, columns = ['基本形', '読み', '品詞', 'スコア'])\n",
        "posi_nega_df['読み'] = posi_nega_df['読み'].apply(lambda x : jaconv.hira2kata(x))\n",
        "posi_nega_df = posi_nega_df[~posi_nega_df[['基本形', '読み', '品詞']].duplicated()]\n",
        "\n",
        "\n",
        "'''\n",
        "p_temp=pathlib.Path('/content/drive/MyDrive/ml_sample_data/livedoor_news_text/')\n",
        "\n",
        "article_list=[]\n",
        "\n",
        "for p in p_temp.glob('**/*.txt'):\n",
        "  media=str(p).split('/')[6]\n",
        "  file_name=str(p).split('/')[7]\n",
        "\n",
        "  if file_name != 'LICENSE.txt':\n",
        "    with open(p,'r') as f:\n",
        "      article=f.readlines()\n",
        "      article=[re.sub(r'[\\n \\u3000]','',i) for i in article]\n",
        "    article_list.append([media,article[0],article[1],article[2],''.join(article[3:])])\n",
        "\n",
        "  else:\n",
        "    continue\n",
        "\n",
        "article_df=pd.DataFrame(article_list)\n",
        "article_df.to_pickle('article_df.pkl')\n",
        "!cp article_df.pkl /content/drive/MyDrive/article_df.pkl\n",
        "'''\n",
        "\n",
        "article_df=pd.read_pickle('/content/drive/MyDrive/ml_sample_data/pickels/livedoor_news.pkl')"
      ],
      "execution_count": 5,
      "outputs": []
    },
    {
      "cell_type": "code",
      "metadata": {
        "colab": {
          "base_uri": "https://localhost:8080/",
          "height": 980
        },
        "id": "Dn7L4T6L7GfL",
        "outputId": "7ef9a5dc-68c6-4832-f133-d1f2a0606133"
      },
      "source": [
        "article_df"
      ],
      "execution_count": 6,
      "outputs": [
        {
          "output_type": "execute_result",
          "data": {
            "text/html": [
              "<div>\n",
              "<style scoped>\n",
              "    .dataframe tbody tr th:only-of-type {\n",
              "        vertical-align: middle;\n",
              "    }\n",
              "\n",
              "    .dataframe tbody tr th {\n",
              "        vertical-align: top;\n",
              "    }\n",
              "\n",
              "    .dataframe thead th {\n",
              "        text-align: right;\n",
              "    }\n",
              "</style>\n",
              "<table border=\"1\" class=\"dataframe\">\n",
              "  <thead>\n",
              "    <tr style=\"text-align: right;\">\n",
              "      <th></th>\n",
              "      <th>0</th>\n",
              "      <th>1</th>\n",
              "      <th>2</th>\n",
              "      <th>3</th>\n",
              "      <th>4</th>\n",
              "    </tr>\n",
              "  </thead>\n",
              "  <tbody>\n",
              "    <tr>\n",
              "      <th>0</th>\n",
              "      <td>kaden-channel</td>\n",
              "      <td>http://news.livedoor.com/article/detail/6711589/</td>\n",
              "      <td>2012-07-01T12:39:00+0900</td>\n",
              "      <td>寝るときに？移動中に？実は使いにくいとの声も多いiPadのおススメ利用法【話題】</td>\n",
              "      <td>iPadが実は使いにくい、という声がネットで飛び出した。理由は微妙に重たいということと、iP...</td>\n",
              "    </tr>\n",
              "    <tr>\n",
              "      <th>1</th>\n",
              "      <td>kaden-channel</td>\n",
              "      <td>http://news.livedoor.com/article/detail/6274177/</td>\n",
              "      <td>2012-02-13T11:00:00+0900</td>\n",
              "      <td>重さで容量がわかる！コンクリートでできたUSBがおもしろい！！【話題】</td>\n",
              "      <td>一見なにかわからないこの固まり、実はUSBだ。書いている数字はこのUSBの容量と重量を示して...</td>\n",
              "    </tr>\n",
              "    <tr>\n",
              "      <th>2</th>\n",
              "      <td>kaden-channel</td>\n",
              "      <td>http://news.livedoor.com/article/detail/6620983/</td>\n",
              "      <td>2012-06-03T09:00:00+0900</td>\n",
              "      <td>盗撮現場を配信!?無料イベント中継のはずが衝撃的瞬間が発覚【話題】</td>\n",
              "      <td>イベントの様子をネット上で配信するということはいまでは珍しくない。今回、そんなイベント中に驚...</td>\n",
              "    </tr>\n",
              "    <tr>\n",
              "      <th>3</th>\n",
              "      <td>kaden-channel</td>\n",
              "      <td>http://news.livedoor.com/article/detail/6831865/</td>\n",
              "      <td>2012-08-07T13:00:00+0900</td>\n",
              "      <td>ソニー、１０倍ズームで３．０型タッチパネル搭載の“サイバーショット”「ＤＳＣ−ＷＸ１７０」を...</td>\n",
              "      <td>ソニーは、光学１０倍ズームレンズと約９２．１万ドットの高精細３．０型ワイドタッチパネルを約１...</td>\n",
              "    </tr>\n",
              "    <tr>\n",
              "      <th>4</th>\n",
              "      <td>kaden-channel</td>\n",
              "      <td>http://news.livedoor.com/article/detail/6154014/</td>\n",
              "      <td>2011-12-28T11:00:00+0900</td>\n",
              "      <td>２０１２年はオシャレ家電で！イデアの家電福袋はメンズ用とレディス用があり今年も期待大【初売り情報】</td>\n",
              "      <td>おしゃれな家電や雑貨を販売しているIDEAオンラインショップが、２０１２年の福袋予約を開始し...</td>\n",
              "    </tr>\n",
              "    <tr>\n",
              "      <th>...</th>\n",
              "      <td>...</td>\n",
              "      <td>...</td>\n",
              "      <td>...</td>\n",
              "      <td>...</td>\n",
              "      <td>...</td>\n",
              "    </tr>\n",
              "    <tr>\n",
              "      <th>7362</th>\n",
              "      <td>it-life-hack</td>\n",
              "      <td>http://news.livedoor.com/article/detail/6669424/</td>\n",
              "      <td>2012-06-18T17:00:00+0900</td>\n",
              "      <td>最新スマホに最強兵器が登場！ソフトバンクAQUOSPHONE103SH対応大容量バッテリー【...</td>\n",
              "      <td>ソフトバンクの「AQUOSPHONE103SH」は、薄型のスタイリッシュなボディに高精細な4...</td>\n",
              "    </tr>\n",
              "    <tr>\n",
              "      <th>7363</th>\n",
              "      <td>it-life-hack</td>\n",
              "      <td>http://news.livedoor.com/article/detail/6570980/</td>\n",
              "      <td>2012-05-18T09:55:00+0900</td>\n",
              "      <td>これはなんでしょう？iPhoneならではのユニークアイテム【イケショップのレア物】</td>\n",
              "      <td>今回は、ちょっと趣向を変えて、クイズから始めてみよう。この何かのコネクタと棒状のパーツがつい...</td>\n",
              "    </tr>\n",
              "    <tr>\n",
              "      <th>7364</th>\n",
              "      <td>it-life-hack</td>\n",
              "      <td>http://news.livedoor.com/article/detail/6804122/</td>\n",
              "      <td>2012-07-30T09:55:00+0900</td>\n",
              "      <td>外出先で録りためたビデオを見る！クラウドの動画ライブラリを作ろう</td>\n",
              "      <td>出張や旅行時では、映画やドラマは一番の息抜きになるものだ。ネットや現地の番組をみるのもいいが...</td>\n",
              "    </tr>\n",
              "    <tr>\n",
              "      <th>7365</th>\n",
              "      <td>it-life-hack</td>\n",
              "      <td>http://news.livedoor.com/article/detail/6663880/</td>\n",
              "      <td>2012-06-16T09:55:00+0900</td>\n",
              "      <td>北川景子さんが美しさの秘密を語る！NEX-F3スペシャルコンテンツ「withα」がオープン</td>\n",
              "      <td>デジタル一眼レフカメラは高画質で綺麗な写真を撮れるが、ボディが大きくて重たく、交換レンズも一...</td>\n",
              "    </tr>\n",
              "    <tr>\n",
              "      <th>7366</th>\n",
              "      <td>it-life-hack</td>\n",
              "      <td>http://news.livedoor.com/article/detail/6559410/</td>\n",
              "      <td>2012-05-15T10:28:00+0900</td>\n",
              "      <td>auスマホの新モデルを5秒で解説！「au発表会2012Summer」速報</td>\n",
              "      <td>KDDIは2012年5月15日、auのスマートフォンの新ラインアップとして5機種を2012年...</td>\n",
              "    </tr>\n",
              "  </tbody>\n",
              "</table>\n",
              "<p>7367 rows × 5 columns</p>\n",
              "</div>"
            ],
            "text/plain": [
              "                  0  ...                                                  4\n",
              "0     kaden-channel  ...  iPadが実は使いにくい、という声がネットで飛び出した。理由は微妙に重たいということと、iP...\n",
              "1     kaden-channel  ...  一見なにかわからないこの固まり、実はUSBだ。書いている数字はこのUSBの容量と重量を示して...\n",
              "2     kaden-channel  ...  イベントの様子をネット上で配信するということはいまでは珍しくない。今回、そんなイベント中に驚...\n",
              "3     kaden-channel  ...  ソニーは、光学１０倍ズームレンズと約９２．１万ドットの高精細３．０型ワイドタッチパネルを約１...\n",
              "4     kaden-channel  ...  おしゃれな家電や雑貨を販売しているIDEAオンラインショップが、２０１２年の福袋予約を開始し...\n",
              "...             ...  ...                                                ...\n",
              "7362   it-life-hack  ...  ソフトバンクの「AQUOSPHONE103SH」は、薄型のスタイリッシュなボディに高精細な4...\n",
              "7363   it-life-hack  ...  今回は、ちょっと趣向を変えて、クイズから始めてみよう。この何かのコネクタと棒状のパーツがつい...\n",
              "7364   it-life-hack  ...  出張や旅行時では、映画やドラマは一番の息抜きになるものだ。ネットや現地の番組をみるのもいいが...\n",
              "7365   it-life-hack  ...  デジタル一眼レフカメラは高画質で綺麗な写真を撮れるが、ボディが大きくて重たく、交換レンズも一...\n",
              "7366   it-life-hack  ...  KDDIは2012年5月15日、auのスマートフォンの新ラインアップとして5機種を2012年...\n",
              "\n",
              "[7367 rows x 5 columns]"
            ]
          },
          "metadata": {
            "tags": []
          },
          "execution_count": 6
        }
      ]
    },
    {
      "cell_type": "code",
      "metadata": {
        "id": "gAMZQ4QUpBnb"
      },
      "source": [
        ""
      ],
      "execution_count": null,
      "outputs": []
    }
  ]
}