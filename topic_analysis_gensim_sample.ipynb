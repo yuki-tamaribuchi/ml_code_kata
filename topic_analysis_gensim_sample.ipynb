{
  "nbformat": 4,
  "nbformat_minor": 0,
  "metadata": {
    "colab": {
      "name": "topic_analysis_gensim_sample.ipynb",
      "provenance": [],
      "authorship_tag": "ABX9TyMUuj903aw7PGCemurwlPrG",
      "include_colab_link": true
    },
    "kernelspec": {
      "name": "python3",
      "display_name": "Python 3"
    }
  },
  "cells": [
    {
      "cell_type": "markdown",
      "metadata": {
        "id": "view-in-github",
        "colab_type": "text"
      },
      "source": [
        "<a href=\"https://colab.research.google.com/github/yuki-tamaribuchi/ml_code_kata/blob/master/topic_analysis_gensim_sample.ipynb\" target=\"_parent\"><img src=\"https://colab.research.google.com/assets/colab-badge.svg\" alt=\"Open In Colab\"/></a>"
      ]
    },
    {
      "cell_type": "code",
      "metadata": {
        "id": "G2D4_jf3o-If"
      },
      "source": [
        "import gensim\n",
        "from gensim import corpora"
      ],
      "execution_count": 2,
      "outputs": []
    },
    {
      "cell_type": "code",
      "metadata": {
        "id": "0cAG8x7RpboD"
      },
      "source": [
        "documents = [\"Human machine interface for lab abc computer applications\",\n",
        "             \"A survey of user opinion of computer system response time\",\n",
        "             \"The EPS user interface management system\",\n",
        "             \"System and human system engineering testing of EPS\",\n",
        "             \"Relation of user perceived response time to error measurement\",\n",
        "             \"The generation of random binary unordered trees\",\n",
        "             \"The intersection graph of paths in trees\",\n",
        "             \"Graph minors IV Widths of trees and well quasi ordering\",\n",
        "             \"Graph minors A survey\"\n",
        "             ]"
      ],
      "execution_count": 3,
      "outputs": []
    },
    {
      "cell_type": "code",
      "metadata": {
        "id": "E12DyeK3px8b"
      },
      "source": [
        "stop_words=set('for a of the and to in'.split())"
      ],
      "execution_count": 4,
      "outputs": []
    },
    {
      "cell_type": "code",
      "metadata": {
        "id": "HZT5c5TQq9xH"
      },
      "source": [
        "texts=[[word for word in document.lower().split() if word not in stop_words] for document in documents]"
      ],
      "execution_count": 6,
      "outputs": []
    },
    {
      "cell_type": "code",
      "metadata": {
        "colab": {
          "base_uri": "https://localhost:8080/"
        },
        "id": "dgckQyaLrOM4",
        "outputId": "154aecba-6507-43fd-ab26-c916d4fa3b46"
      },
      "source": [
        "texts"
      ],
      "execution_count": 7,
      "outputs": [
        {
          "output_type": "execute_result",
          "data": {
            "text/plain": [
              "[['human', 'machine', 'interface', 'lab', 'abc', 'computer', 'applications'],\n",
              " ['survey', 'user', 'opinion', 'computer', 'system', 'response', 'time'],\n",
              " ['eps', 'user', 'interface', 'management', 'system'],\n",
              " ['system', 'human', 'system', 'engineering', 'testing', 'eps'],\n",
              " ['relation', 'user', 'perceived', 'response', 'time', 'error', 'measurement'],\n",
              " ['generation', 'random', 'binary', 'unordered', 'trees'],\n",
              " ['intersection', 'graph', 'paths', 'trees'],\n",
              " ['graph', 'minors', 'iv', 'widths', 'trees', 'well', 'quasi', 'ordering'],\n",
              " ['graph', 'minors', 'survey']]"
            ]
          },
          "metadata": {
            "tags": []
          },
          "execution_count": 7
        }
      ]
    },
    {
      "cell_type": "code",
      "metadata": {
        "id": "3tDeBRLNrRuE"
      },
      "source": [
        "from collections import defaultdict"
      ],
      "execution_count": 8,
      "outputs": []
    },
    {
      "cell_type": "code",
      "metadata": {
        "id": "Lkp07x-RsD0a"
      },
      "source": [
        "frequency=defaultdict(int)\n",
        "\n",
        "for text in texts:\n",
        "  for token in text:\n",
        "    frequency[token]+=1\n",
        "\n",
        "texts=[[token for token in text if frequency[token]>1] for text in texts]"
      ],
      "execution_count": 9,
      "outputs": []
    },
    {
      "cell_type": "code",
      "metadata": {
        "colab": {
          "base_uri": "https://localhost:8080/"
        },
        "id": "GdSWhPiQseXE",
        "outputId": "a0f702b9-6dd6-4cb6-ec96-6d2cc34f8dec"
      },
      "source": [
        "texts"
      ],
      "execution_count": 10,
      "outputs": [
        {
          "output_type": "execute_result",
          "data": {
            "text/plain": [
              "[['human', 'interface', 'computer'],\n",
              " ['survey', 'user', 'computer', 'system', 'response', 'time'],\n",
              " ['eps', 'user', 'interface', 'system'],\n",
              " ['system', 'human', 'system', 'eps'],\n",
              " ['user', 'response', 'time'],\n",
              " ['trees'],\n",
              " ['graph', 'trees'],\n",
              " ['graph', 'minors', 'trees'],\n",
              " ['graph', 'minors', 'survey']]"
            ]
          },
          "metadata": {
            "tags": []
          },
          "execution_count": 10
        }
      ]
    },
    {
      "cell_type": "code",
      "metadata": {
        "id": "uLY7yr5csfhn"
      },
      "source": [
        "dictionary=corpora.Dictionary(texts)\n",
        "\n",
        "dictionary.save('deerwester.dict')"
      ],
      "execution_count": 11,
      "outputs": []
    },
    {
      "cell_type": "code",
      "metadata": {
        "id": "BftWNA42tjNw"
      },
      "source": [
        "corpus=[dictionary.doc2bow(text) for text in texts]"
      ],
      "execution_count": 13,
      "outputs": []
    },
    {
      "cell_type": "code",
      "metadata": {
        "colab": {
          "base_uri": "https://localhost:8080/"
        },
        "id": "IiN241GNtwtX",
        "outputId": "b513a679-95d9-4968-f6e9-331e3be0bc95"
      },
      "source": [
        "corpus"
      ],
      "execution_count": 15,
      "outputs": [
        {
          "output_type": "execute_result",
          "data": {
            "text/plain": [
              "[[(0, 1), (1, 1), (2, 1)],\n",
              " [(0, 1), (3, 1), (4, 1), (5, 1), (6, 1), (7, 1)],\n",
              " [(2, 1), (5, 1), (7, 1), (8, 1)],\n",
              " [(1, 1), (5, 2), (8, 1)],\n",
              " [(3, 1), (6, 1), (7, 1)],\n",
              " [(9, 1)],\n",
              " [(9, 1), (10, 1)],\n",
              " [(9, 1), (10, 1), (11, 1)],\n",
              " [(4, 1), (10, 1), (11, 1)]]"
            ]
          },
          "metadata": {
            "tags": []
          },
          "execution_count": 15
        }
      ]
    },
    {
      "cell_type": "code",
      "metadata": {
        "id": "zg1KjJNGtzu6"
      },
      "source": [
        "lda=gensim.models.ldamodel.LdaModel(corpus=corpus,num_topics=5,id2word=dictionary)"
      ],
      "execution_count": 16,
      "outputs": []
    },
    {
      "cell_type": "code",
      "metadata": {
        "colab": {
          "base_uri": "https://localhost:8080/"
        },
        "id": "IXCqusSeuU1M",
        "outputId": "d23a2681-eac1-4d73-be72-bbf3a4fa53d1"
      },
      "source": [
        "lda.show_topics()"
      ],
      "execution_count": 17,
      "outputs": [
        {
          "output_type": "execute_result",
          "data": {
            "text/plain": [
              "[(0,\n",
              "  '0.208*\"system\" + 0.143*\"response\" + 0.143*\"user\" + 0.142*\"time\" + 0.078*\"computer\" + 0.078*\"survey\" + 0.078*\"human\" + 0.078*\"eps\" + 0.014*\"trees\" + 0.013*\"graph\"'),\n",
              " (1,\n",
              "  '0.087*\"trees\" + 0.085*\"graph\" + 0.083*\"interface\" + 0.083*\"time\" + 0.083*\"system\" + 0.083*\"user\" + 0.083*\"human\" + 0.083*\"computer\" + 0.083*\"eps\" + 0.083*\"minors\"'),\n",
              " (2,\n",
              "  '0.186*\"system\" + 0.186*\"interface\" + 0.186*\"user\" + 0.186*\"eps\" + 0.033*\"trees\" + 0.032*\"graph\" + 0.032*\"survey\" + 0.032*\"human\" + 0.032*\"time\" + 0.032*\"minors\"'),\n",
              " (3,\n",
              "  '0.162*\"human\" + 0.161*\"computer\" + 0.161*\"interface\" + 0.161*\"trees\" + 0.161*\"graph\" + 0.028*\"survey\" + 0.028*\"user\" + 0.028*\"system\" + 0.028*\"eps\" + 0.027*\"minors\"'),\n",
              " (4,\n",
              "  '0.234*\"minors\" + 0.233*\"graph\" + 0.232*\"trees\" + 0.127*\"survey\" + 0.022*\"human\" + 0.022*\"user\" + 0.022*\"system\" + 0.022*\"computer\" + 0.022*\"eps\" + 0.022*\"time\"')]"
            ]
          },
          "metadata": {
            "tags": []
          },
          "execution_count": 17
        }
      ]
    },
    {
      "cell_type": "code",
      "metadata": {
        "id": "I-Tyj7i7uaB0"
      },
      "source": [
        "test_documents = [\"Computer themselves and software yet to be developed will revolutionize the way we learn\"]\n",
        "\n",
        "test_texts=[[word for word in document.lower().split()] for document in test_documents]\n",
        "\n",
        "test_corpus=[dictionary.doc2bow(text) for text in test_texts]"
      ],
      "execution_count": 23,
      "outputs": []
    },
    {
      "cell_type": "code",
      "metadata": {
        "colab": {
          "base_uri": "https://localhost:8080/"
        },
        "id": "HJhKzkYUvAxC",
        "outputId": "f0563186-4e78-4a7e-8acb-07b2a51dac82"
      },
      "source": [
        "test_corpus"
      ],
      "execution_count": 24,
      "outputs": [
        {
          "output_type": "execute_result",
          "data": {
            "text/plain": [
              "[[(0, 1)]]"
            ]
          },
          "metadata": {
            "tags": []
          },
          "execution_count": 24
        }
      ]
    },
    {
      "cell_type": "code",
      "metadata": {
        "colab": {
          "base_uri": "https://localhost:8080/"
        },
        "id": "pwXOKIKSvQrQ",
        "outputId": "0751dc4a-b627-4a6c-cdf1-5404d66b44eb"
      },
      "source": [
        "for topics_per_document in lda[test_corpus]:\n",
        "  print(topics_per_document)"
      ],
      "execution_count": 25,
      "outputs": [
        {
          "output_type": "stream",
          "text": [
            "[(0, 0.1017346), (1, 0.100088775), (2, 0.10002879), (3, 0.5981283), (4, 0.10001952)]\n"
          ],
          "name": "stdout"
        }
      ]
    },
    {
      "cell_type": "code",
      "metadata": {
        "id": "kXyGkh18vndl"
      },
      "source": [
        ""
      ],
      "execution_count": null,
      "outputs": []
    }
  ]
}