{
  "nbformat": 4,
  "nbformat_minor": 0,
  "metadata": {
    "colab": {
      "name": "iris_logisticregression_multiclass.ipynb",
      "provenance": [],
      "authorship_tag": "ABX9TyMoQtw//3CfqxKbwYjCgfUR",
      "include_colab_link": true
    },
    "kernelspec": {
      "name": "python3",
      "display_name": "Python 3"
    }
  },
  "cells": [
    {
      "cell_type": "markdown",
      "metadata": {
        "id": "view-in-github",
        "colab_type": "text"
      },
      "source": [
        "<a href=\"https://colab.research.google.com/github/yuki-tamaribuchi/ml_code_kata/blob/master/iris_logisticregression_multiclass.ipynb\" target=\"_parent\"><img src=\"https://colab.research.google.com/assets/colab-badge.svg\" alt=\"Open In Colab\"/></a>"
      ]
    },
    {
      "cell_type": "code",
      "metadata": {
        "id": "FLSXQ_knEqqL"
      },
      "source": [
        "from sklearn.datasets import load_iris\n",
        "from sklearn.preprocessing import StandardScaler\n",
        "from sklearn.linear_model import LogisticRegression\n",
        "from sklearn.model_selection import train_test_split\n",
        "import pandas as pd\n",
        "import numpy as np"
      ],
      "execution_count": 1,
      "outputs": []
    },
    {
      "cell_type": "code",
      "metadata": {
        "id": "W9iikFBYE-Nj"
      },
      "source": [
        "data=load_iris()"
      ],
      "execution_count": 2,
      "outputs": []
    },
    {
      "cell_type": "code",
      "metadata": {
        "id": "-ML90KC2FYQd"
      },
      "source": [
        "X_df=pd.DataFrame(data.data,columns=data.feature_names)\n",
        "X_df=X_df.drop(['petal length (cm)','petal width (cm)'],axis=1)\n",
        "y_df=pd.DataFrame(data.target,columns=['target'])\n",
        "\n",
        "X_train,X_test,y_train,y_test=train_test_split(X_df,y_df)\n",
        "scaler=StandardScaler()\n",
        "scaled_X_train=pd.DataFrame(scaler.fit_transform(X_train),columns=X_train.columns)\n",
        "scaled_X_test=pd.DataFrame(scaler.transform(X_test),columns=X_test.columns)"
      ],
      "execution_count": 3,
      "outputs": []
    },
    {
      "cell_type": "code",
      "metadata": {
        "colab": {
          "base_uri": "https://localhost:8080/"
        },
        "id": "YqmJydIbHiiN",
        "outputId": "c676ad97-2b0b-4ac6-a71d-01a400daca15"
      },
      "source": [
        "clf=LogisticRegression()\n",
        "clf.fit(scaled_X_train,y_train)\n",
        "clf.score(scaled_X_test,y_test)"
      ],
      "execution_count": 4,
      "outputs": [
        {
          "output_type": "stream",
          "text": [
            "/usr/local/lib/python3.6/dist-packages/sklearn/utils/validation.py:760: DataConversionWarning: A column-vector y was passed when a 1d array was expected. Please change the shape of y to (n_samples, ), for example using ravel().\n",
            "  y = column_or_1d(y, warn=True)\n"
          ],
          "name": "stderr"
        },
        {
          "output_type": "execute_result",
          "data": {
            "text/plain": [
              "0.7105263157894737"
            ]
          },
          "metadata": {
            "tags": []
          },
          "execution_count": 4
        }
      ]
    }
  ]
}