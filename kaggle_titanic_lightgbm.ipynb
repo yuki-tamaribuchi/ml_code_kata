{
  "nbformat": 4,
  "nbformat_minor": 0,
  "metadata": {
    "colab": {
      "name": "kaggle_titanic_lightgbm.ipynb",
      "provenance": [],
      "collapsed_sections": [],
      "mount_file_id": "1kd7QLZpq8IKLUqZf_advZoNS--p_OkqA",
      "authorship_tag": "ABX9TyMXJi2BmhpNikF1nN+rNFTN",
      "include_colab_link": true
    },
    "kernelspec": {
      "name": "python3",
      "display_name": "Python 3"
    }
  },
  "cells": [
    {
      "cell_type": "markdown",
      "metadata": {
        "id": "view-in-github",
        "colab_type": "text"
      },
      "source": [
        "<a href=\"https://colab.research.google.com/github/yuki-tamaribuchi/ml_code_kata/blob/master/kaggle_titanic_lightgbm.ipynb\" target=\"_parent\"><img src=\"https://colab.research.google.com/assets/colab-badge.svg\" alt=\"Open In Colab\"/></a>"
      ]
    },
    {
      "cell_type": "code",
      "metadata": {
        "id": "ZqO9sh7KOOuA",
        "colab": {
          "base_uri": "https://localhost:8080/"
        },
        "outputId": "55952b9f-a204-4fb9-9910-20e816981e5f"
      },
      "source": [
        "!mkdir /root/.kaggle\n",
        "!cp drive/'My Drive'/kaggle/kaggle.json /root/.kaggle/kaggle.json"
      ],
      "execution_count": 1,
      "outputs": [
        {
          "output_type": "stream",
          "text": [
            "mkdir: cannot create directory ‘/root/.kaggle’: File exists\n"
          ],
          "name": "stdout"
        }
      ]
    },
    {
      "cell_type": "code",
      "metadata": {
        "colab": {
          "base_uri": "https://localhost:8080/"
        },
        "id": "51Ljt9QlMcu2",
        "outputId": "d1542efb-a919-4202-fc57-37bd72e3db55"
      },
      "source": [
        "!kaggle competitions download -c titanic"
      ],
      "execution_count": 2,
      "outputs": [
        {
          "output_type": "stream",
          "text": [
            "Warning: Looks like you're using an outdated API Version, please consider updating (server 1.5.10 / client 1.5.4)\n",
            "test.csv: Skipping, found more recently modified local copy (use --force to force download)\n",
            "train.csv: Skipping, found more recently modified local copy (use --force to force download)\n",
            "gender_submission.csv: Skipping, found more recently modified local copy (use --force to force download)\n"
          ],
          "name": "stdout"
        }
      ]
    },
    {
      "cell_type": "code",
      "metadata": {
        "id": "pCPg7D0iOvBP"
      },
      "source": [
        "import numpy as np\n",
        "import pandas as pd\n",
        "import sklearn\n",
        "from sklearn.model_selection import train_test_split"
      ],
      "execution_count": 3,
      "outputs": []
    },
    {
      "cell_type": "code",
      "metadata": {
        "id": "JFmm8KTYO6Dn"
      },
      "source": [
        "train_df=pd.read_csv('train.csv')\n",
        "test_df=pd.read_csv('test.csv')"
      ],
      "execution_count": 4,
      "outputs": []
    },
    {
      "cell_type": "code",
      "metadata": {
        "colab": {
          "base_uri": "https://localhost:8080/",
          "height": 504
        },
        "id": "vgh7WttCPCRm",
        "outputId": "e494d612-788c-4508-b364-09fbe372b172"
      },
      "source": [
        "train_df.head()"
      ],
      "execution_count": 5,
      "outputs": [
        {
          "output_type": "execute_result",
          "data": {
            "text/html": [
              "<div>\n",
              "<style scoped>\n",
              "    .dataframe tbody tr th:only-of-type {\n",
              "        vertical-align: middle;\n",
              "    }\n",
              "\n",
              "    .dataframe tbody tr th {\n",
              "        vertical-align: top;\n",
              "    }\n",
              "\n",
              "    .dataframe thead th {\n",
              "        text-align: right;\n",
              "    }\n",
              "</style>\n",
              "<table border=\"1\" class=\"dataframe\">\n",
              "  <thead>\n",
              "    <tr style=\"text-align: right;\">\n",
              "      <th></th>\n",
              "      <th>PassengerId</th>\n",
              "      <th>Survived</th>\n",
              "      <th>Pclass</th>\n",
              "      <th>Name</th>\n",
              "      <th>Sex</th>\n",
              "      <th>Age</th>\n",
              "      <th>SibSp</th>\n",
              "      <th>Parch</th>\n",
              "      <th>Ticket</th>\n",
              "      <th>Fare</th>\n",
              "      <th>Cabin</th>\n",
              "      <th>Embarked</th>\n",
              "    </tr>\n",
              "  </thead>\n",
              "  <tbody>\n",
              "    <tr>\n",
              "      <th>0</th>\n",
              "      <td>1</td>\n",
              "      <td>0</td>\n",
              "      <td>3</td>\n",
              "      <td>Braund, Mr. Owen Harris</td>\n",
              "      <td>male</td>\n",
              "      <td>22.0</td>\n",
              "      <td>1</td>\n",
              "      <td>0</td>\n",
              "      <td>A/5 21171</td>\n",
              "      <td>7.2500</td>\n",
              "      <td>NaN</td>\n",
              "      <td>S</td>\n",
              "    </tr>\n",
              "    <tr>\n",
              "      <th>1</th>\n",
              "      <td>2</td>\n",
              "      <td>1</td>\n",
              "      <td>1</td>\n",
              "      <td>Cumings, Mrs. John Bradley (Florence Briggs Th...</td>\n",
              "      <td>female</td>\n",
              "      <td>38.0</td>\n",
              "      <td>1</td>\n",
              "      <td>0</td>\n",
              "      <td>PC 17599</td>\n",
              "      <td>71.2833</td>\n",
              "      <td>C85</td>\n",
              "      <td>C</td>\n",
              "    </tr>\n",
              "    <tr>\n",
              "      <th>2</th>\n",
              "      <td>3</td>\n",
              "      <td>1</td>\n",
              "      <td>3</td>\n",
              "      <td>Heikkinen, Miss. Laina</td>\n",
              "      <td>female</td>\n",
              "      <td>26.0</td>\n",
              "      <td>0</td>\n",
              "      <td>0</td>\n",
              "      <td>STON/O2. 3101282</td>\n",
              "      <td>7.9250</td>\n",
              "      <td>NaN</td>\n",
              "      <td>S</td>\n",
              "    </tr>\n",
              "    <tr>\n",
              "      <th>3</th>\n",
              "      <td>4</td>\n",
              "      <td>1</td>\n",
              "      <td>1</td>\n",
              "      <td>Futrelle, Mrs. Jacques Heath (Lily May Peel)</td>\n",
              "      <td>female</td>\n",
              "      <td>35.0</td>\n",
              "      <td>1</td>\n",
              "      <td>0</td>\n",
              "      <td>113803</td>\n",
              "      <td>53.1000</td>\n",
              "      <td>C123</td>\n",
              "      <td>S</td>\n",
              "    </tr>\n",
              "    <tr>\n",
              "      <th>4</th>\n",
              "      <td>5</td>\n",
              "      <td>0</td>\n",
              "      <td>3</td>\n",
              "      <td>Allen, Mr. William Henry</td>\n",
              "      <td>male</td>\n",
              "      <td>35.0</td>\n",
              "      <td>0</td>\n",
              "      <td>0</td>\n",
              "      <td>373450</td>\n",
              "      <td>8.0500</td>\n",
              "      <td>NaN</td>\n",
              "      <td>S</td>\n",
              "    </tr>\n",
              "  </tbody>\n",
              "</table>\n",
              "</div>"
            ],
            "text/plain": [
              "   PassengerId  Survived  Pclass  ...     Fare Cabin  Embarked\n",
              "0            1         0       3  ...   7.2500   NaN         S\n",
              "1            2         1       1  ...  71.2833   C85         C\n",
              "2            3         1       3  ...   7.9250   NaN         S\n",
              "3            4         1       1  ...  53.1000  C123         S\n",
              "4            5         0       3  ...   8.0500   NaN         S\n",
              "\n",
              "[5 rows x 12 columns]"
            ]
          },
          "metadata": {
            "tags": []
          },
          "execution_count": 5
        }
      ]
    },
    {
      "cell_type": "code",
      "metadata": {
        "id": "h68isshAdJ7e",
        "colab": {
          "base_uri": "https://localhost:8080/"
        },
        "outputId": "0f6e2ee0-9000-4831-8a04-3dc9e1c05b4c"
      },
      "source": [
        "train_df.isnull().sum()"
      ],
      "execution_count": 6,
      "outputs": [
        {
          "output_type": "execute_result",
          "data": {
            "text/plain": [
              "PassengerId      0\n",
              "Survived         0\n",
              "Pclass           0\n",
              "Name             0\n",
              "Sex              0\n",
              "Age            177\n",
              "SibSp            0\n",
              "Parch            0\n",
              "Ticket           0\n",
              "Fare             0\n",
              "Cabin          687\n",
              "Embarked         2\n",
              "dtype: int64"
            ]
          },
          "metadata": {
            "tags": []
          },
          "execution_count": 6
        }
      ]
    },
    {
      "cell_type": "code",
      "metadata": {
        "id": "2fKrnAhqPE_K"
      },
      "source": [
        "sex_dummy=pd.get_dummies(train_df['Sex'])\n",
        "pclass_dummy=pd.get_dummies(train_df['Pclass'],prefix='Pclass')\n",
        "embarked_dummy=pd.get_dummies(train_df['Embarked'],prefix='Emb')\n",
        "\n",
        "train_df=train_df.drop(['Ticket','Cabin','Name','Sex','Pclass','Embarked','Cabin','PassengerId'],axis=1)\n",
        "train_df=pd.concat([train_df,sex_dummy,pclass_dummy,embarked_dummy],axis=1)\n",
        "\n",
        "train_df['Age']=train_df['Age'].fillna(train_df['Age'].mean())"
      ],
      "execution_count": 7,
      "outputs": []
    },
    {
      "cell_type": "code",
      "metadata": {
        "id": "2BXtLzckgrwC",
        "colab": {
          "base_uri": "https://localhost:8080/"
        },
        "outputId": "85449c14-a447-4b8f-e6dc-0c8516256da7"
      },
      "source": [
        "train_df.isnull().sum()"
      ],
      "execution_count": 8,
      "outputs": [
        {
          "output_type": "execute_result",
          "data": {
            "text/plain": [
              "Survived    0\n",
              "Age         0\n",
              "SibSp       0\n",
              "Parch       0\n",
              "Fare        0\n",
              "female      0\n",
              "male        0\n",
              "Pclass_1    0\n",
              "Pclass_2    0\n",
              "Pclass_3    0\n",
              "Emb_C       0\n",
              "Emb_Q       0\n",
              "Emb_S       0\n",
              "dtype: int64"
            ]
          },
          "metadata": {
            "tags": []
          },
          "execution_count": 8
        }
      ]
    },
    {
      "cell_type": "code",
      "metadata": {
        "id": "sxZuSYuyeiK8"
      },
      "source": [
        "y_train_df=train_df['Survived']\n",
        "X_train_df=train_df.drop(['Survived'],axis=1)"
      ],
      "execution_count": 9,
      "outputs": []
    },
    {
      "cell_type": "code",
      "metadata": {
        "id": "eIFAyJ5PhyYG",
        "colab": {
          "base_uri": "https://localhost:8080/"
        },
        "outputId": "fe37a142-46e3-4c2d-8ecb-11e05e555d46"
      },
      "source": [
        "test_df.isnull().sum()"
      ],
      "execution_count": 10,
      "outputs": [
        {
          "output_type": "execute_result",
          "data": {
            "text/plain": [
              "PassengerId      0\n",
              "Pclass           0\n",
              "Name             0\n",
              "Sex              0\n",
              "Age             86\n",
              "SibSp            0\n",
              "Parch            0\n",
              "Ticket           0\n",
              "Fare             1\n",
              "Cabin          327\n",
              "Embarked         0\n",
              "dtype: int64"
            ]
          },
          "metadata": {
            "tags": []
          },
          "execution_count": 10
        }
      ]
    },
    {
      "cell_type": "code",
      "metadata": {
        "id": "1_7TkelNZjUv"
      },
      "source": [
        "sex_dummy=pd.get_dummies(test_df['Sex'])\n",
        "pclass_dummy=pd.get_dummies(test_df['Pclass'],prefix='Pclass')\n",
        "embarked_dummy=pd.get_dummies(test_df['Embarked'],prefix='Emb')\n",
        "\n",
        "test_df=test_df.drop(['Ticket','Cabin','Name','Sex','Pclass','Embarked','Cabin','PassengerId'],axis=1)\n",
        "test_df=pd.concat([test_df,sex_dummy,pclass_dummy,embarked_dummy],axis=1)\n",
        "\n",
        "test_df['Age']=test_df['Age'].fillna(test_df['Age'].mean())\n",
        "test_df['Fare']=test_df['Fare'].fillna(test_df['Fare'].mean())\n",
        "\n",
        "X_test=test_df"
      ],
      "execution_count": 11,
      "outputs": []
    },
    {
      "cell_type": "code",
      "metadata": {
        "colab": {
          "base_uri": "https://localhost:8080/"
        },
        "id": "_p_3cxdW07nL",
        "outputId": "e2ccc92c-132b-444a-a332-5c8d55dba066"
      },
      "source": [
        "X_test.isnull().sum()"
      ],
      "execution_count": 12,
      "outputs": [
        {
          "output_type": "execute_result",
          "data": {
            "text/plain": [
              "Age         0\n",
              "SibSp       0\n",
              "Parch       0\n",
              "Fare        0\n",
              "female      0\n",
              "male        0\n",
              "Pclass_1    0\n",
              "Pclass_2    0\n",
              "Pclass_3    0\n",
              "Emb_C       0\n",
              "Emb_Q       0\n",
              "Emb_S       0\n",
              "dtype: int64"
            ]
          },
          "metadata": {
            "tags": []
          },
          "execution_count": 12
        }
      ]
    },
    {
      "cell_type": "code",
      "metadata": {
        "id": "thHWuGGc96Ev"
      },
      "source": [
        "X_train,X_test,y_train,y_test=train_test_split(X_train_df,y_train_df)"
      ],
      "execution_count": 13,
      "outputs": []
    },
    {
      "cell_type": "code",
      "metadata": {
        "id": "PdTsMNH_-PFA"
      },
      "source": [
        "import lightgbm as lgb"
      ],
      "execution_count": 14,
      "outputs": []
    },
    {
      "cell_type": "code",
      "metadata": {
        "id": "ZlWVQBJU-THt"
      },
      "source": [
        "lgb_train=lgb.Dataset(X_train,y_train)\n",
        "lgb_eval=lgb.Dataset(X_test,y_test,reference=lgb_train)"
      ],
      "execution_count": 15,
      "outputs": []
    },
    {
      "cell_type": "code",
      "metadata": {
        "id": "2F1YXUnR-mdM"
      },
      "source": [
        "lgbm_params={'objective':'multiclass','num_class':3}"
      ],
      "execution_count": 16,
      "outputs": []
    },
    {
      "cell_type": "code",
      "metadata": {
        "colab": {
          "base_uri": "https://localhost:8080/"
        },
        "id": "U7rCIZJH-x5H",
        "outputId": "3c29f476-9692-47df-e2ae-9b559f9d691d"
      },
      "source": [
        "model=lgb.train(lgbm_params,lgb_train,valid_sets=lgb_eval)"
      ],
      "execution_count": 17,
      "outputs": [
        {
          "output_type": "stream",
          "text": [
            "[1]\tvalid_0's multi_logloss: 0.628498\n",
            "[2]\tvalid_0's multi_logloss: 0.594682\n",
            "[3]\tvalid_0's multi_logloss: 0.56803\n",
            "[4]\tvalid_0's multi_logloss: 0.547325\n",
            "[5]\tvalid_0's multi_logloss: 0.530171\n",
            "[6]\tvalid_0's multi_logloss: 0.515025\n",
            "[7]\tvalid_0's multi_logloss: 0.502544\n",
            "[8]\tvalid_0's multi_logloss: 0.492145\n",
            "[9]\tvalid_0's multi_logloss: 0.485113\n",
            "[10]\tvalid_0's multi_logloss: 0.475983\n",
            "[11]\tvalid_0's multi_logloss: 0.468613\n",
            "[12]\tvalid_0's multi_logloss: 0.463626\n",
            "[13]\tvalid_0's multi_logloss: 0.459112\n",
            "[14]\tvalid_0's multi_logloss: 0.457296\n",
            "[15]\tvalid_0's multi_logloss: 0.455131\n",
            "[16]\tvalid_0's multi_logloss: 0.452827\n",
            "[17]\tvalid_0's multi_logloss: 0.451752\n",
            "[18]\tvalid_0's multi_logloss: 0.451117\n",
            "[19]\tvalid_0's multi_logloss: 0.449215\n",
            "[20]\tvalid_0's multi_logloss: 0.449565\n",
            "[21]\tvalid_0's multi_logloss: 0.45109\n",
            "[22]\tvalid_0's multi_logloss: 0.452718\n",
            "[23]\tvalid_0's multi_logloss: 0.45488\n",
            "[24]\tvalid_0's multi_logloss: 0.455524\n",
            "[25]\tvalid_0's multi_logloss: 0.457023\n",
            "[26]\tvalid_0's multi_logloss: 0.460009\n",
            "[27]\tvalid_0's multi_logloss: 0.462337\n",
            "[28]\tvalid_0's multi_logloss: 0.464575\n",
            "[29]\tvalid_0's multi_logloss: 0.467122\n",
            "[30]\tvalid_0's multi_logloss: 0.46597\n",
            "[31]\tvalid_0's multi_logloss: 0.469048\n",
            "[32]\tvalid_0's multi_logloss: 0.471463\n",
            "[33]\tvalid_0's multi_logloss: 0.47066\n",
            "[34]\tvalid_0's multi_logloss: 0.47091\n",
            "[35]\tvalid_0's multi_logloss: 0.474654\n",
            "[36]\tvalid_0's multi_logloss: 0.477248\n",
            "[37]\tvalid_0's multi_logloss: 0.480291\n",
            "[38]\tvalid_0's multi_logloss: 0.481635\n",
            "[39]\tvalid_0's multi_logloss: 0.482286\n",
            "[40]\tvalid_0's multi_logloss: 0.484552\n",
            "[41]\tvalid_0's multi_logloss: 0.483212\n",
            "[42]\tvalid_0's multi_logloss: 0.486072\n",
            "[43]\tvalid_0's multi_logloss: 0.489211\n",
            "[44]\tvalid_0's multi_logloss: 0.49063\n",
            "[45]\tvalid_0's multi_logloss: 0.492884\n",
            "[46]\tvalid_0's multi_logloss: 0.492745\n",
            "[47]\tvalid_0's multi_logloss: 0.495203\n",
            "[48]\tvalid_0's multi_logloss: 0.497043\n",
            "[49]\tvalid_0's multi_logloss: 0.494875\n",
            "[50]\tvalid_0's multi_logloss: 0.497072\n",
            "[51]\tvalid_0's multi_logloss: 0.499097\n",
            "[52]\tvalid_0's multi_logloss: 0.500709\n",
            "[53]\tvalid_0's multi_logloss: 0.503892\n",
            "[54]\tvalid_0's multi_logloss: 0.505312\n",
            "[55]\tvalid_0's multi_logloss: 0.504073\n",
            "[56]\tvalid_0's multi_logloss: 0.507611\n",
            "[57]\tvalid_0's multi_logloss: 0.509647\n",
            "[58]\tvalid_0's multi_logloss: 0.510188\n",
            "[59]\tvalid_0's multi_logloss: 0.515458\n",
            "[60]\tvalid_0's multi_logloss: 0.512627\n",
            "[61]\tvalid_0's multi_logloss: 0.514819\n",
            "[62]\tvalid_0's multi_logloss: 0.516693\n",
            "[63]\tvalid_0's multi_logloss: 0.516955\n",
            "[64]\tvalid_0's multi_logloss: 0.517755\n",
            "[65]\tvalid_0's multi_logloss: 0.518569\n",
            "[66]\tvalid_0's multi_logloss: 0.521816\n",
            "[67]\tvalid_0's multi_logloss: 0.524298\n",
            "[68]\tvalid_0's multi_logloss: 0.524923\n",
            "[69]\tvalid_0's multi_logloss: 0.528497\n",
            "[70]\tvalid_0's multi_logloss: 0.528789\n",
            "[71]\tvalid_0's multi_logloss: 0.529789\n",
            "[72]\tvalid_0's multi_logloss: 0.530467\n",
            "[73]\tvalid_0's multi_logloss: 0.533508\n",
            "[74]\tvalid_0's multi_logloss: 0.533168\n",
            "[75]\tvalid_0's multi_logloss: 0.536821\n",
            "[76]\tvalid_0's multi_logloss: 0.536473\n",
            "[77]\tvalid_0's multi_logloss: 0.538225\n",
            "[78]\tvalid_0's multi_logloss: 0.538338\n",
            "[79]\tvalid_0's multi_logloss: 0.54324\n",
            "[80]\tvalid_0's multi_logloss: 0.546643\n",
            "[81]\tvalid_0's multi_logloss: 0.547779\n",
            "[82]\tvalid_0's multi_logloss: 0.550004\n",
            "[83]\tvalid_0's multi_logloss: 0.54986\n",
            "[84]\tvalid_0's multi_logloss: 0.55055\n",
            "[85]\tvalid_0's multi_logloss: 0.5508\n",
            "[86]\tvalid_0's multi_logloss: 0.550322\n",
            "[87]\tvalid_0's multi_logloss: 0.552317\n",
            "[88]\tvalid_0's multi_logloss: 0.552219\n",
            "[89]\tvalid_0's multi_logloss: 0.555008\n",
            "[90]\tvalid_0's multi_logloss: 0.55471\n",
            "[91]\tvalid_0's multi_logloss: 0.555031\n",
            "[92]\tvalid_0's multi_logloss: 0.557332\n",
            "[93]\tvalid_0's multi_logloss: 0.559708\n",
            "[94]\tvalid_0's multi_logloss: 0.558819\n",
            "[95]\tvalid_0's multi_logloss: 0.560932\n",
            "[96]\tvalid_0's multi_logloss: 0.562032\n",
            "[97]\tvalid_0's multi_logloss: 0.563458\n",
            "[98]\tvalid_0's multi_logloss: 0.568313\n",
            "[99]\tvalid_0's multi_logloss: 0.56903\n",
            "[100]\tvalid_0's multi_logloss: 0.56855\n"
          ],
          "name": "stdout"
        }
      ]
    },
    {
      "cell_type": "code",
      "metadata": {
        "id": "KDMJpv6q-7_6"
      },
      "source": [
        "y_pred=model.predict(X_test,num_iteration=model.best_iteration)\n",
        "y_pred_max=np.argmax(y_pred,axis=1)"
      ],
      "execution_count": 18,
      "outputs": []
    },
    {
      "cell_type": "code",
      "metadata": {
        "colab": {
          "base_uri": "https://localhost:8080/"
        },
        "id": "59u6s0DM_dmh",
        "outputId": "4e5d0a39-54db-48ab-d489-7b28a39fcdfa"
      },
      "source": [
        "accuracy=sum(y_test==y_pred_max)/len(y_test)\n",
        "print(accuracy)"
      ],
      "execution_count": 19,
      "outputs": [
        {
          "output_type": "stream",
          "text": [
            "0.8161434977578476\n"
          ],
          "name": "stdout"
        }
      ]
    }
  ]
}