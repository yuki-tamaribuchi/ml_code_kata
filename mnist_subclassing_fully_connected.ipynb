{
  "nbformat": 4,
  "nbformat_minor": 0,
  "metadata": {
    "colab": {
      "name": "mnist_subclassing_fully_connected.ipynb",
      "provenance": [],
      "collapsed_sections": [],
      "authorship_tag": "ABX9TyMum3/wKF6sMeGlCAsUlfIL",
      "include_colab_link": true
    },
    "kernelspec": {
      "name": "python3",
      "display_name": "Python 3"
    }
  },
  "cells": [
    {
      "cell_type": "markdown",
      "metadata": {
        "id": "view-in-github",
        "colab_type": "text"
      },
      "source": [
        "<a href=\"https://colab.research.google.com/github/yuki-tamaribuchi/ml_code_kata/blob/master/mnist_subclassing_fully_connected.ipynb\" target=\"_parent\"><img src=\"https://colab.research.google.com/assets/colab-badge.svg\" alt=\"Open In Colab\"/></a>"
      ]
    },
    {
      "cell_type": "code",
      "metadata": {
        "id": "KHJN2SfK17--"
      },
      "source": [
        "import tensorflow as tf\n",
        "import numpy as np"
      ],
      "execution_count": 1,
      "outputs": []
    },
    {
      "cell_type": "code",
      "metadata": {
        "id": "IJjvCteE2fZs"
      },
      "source": [
        "(x_train,y_train),(x_test,y_test)=tf.keras.datasets.mnist.load_data()\n",
        "\n",
        "x_train,x_test=np.divide(x_train.astype('float32'),255.0),np.divide(x_test.astype('float32'),255.0)\n",
        "x_train,x_test=x_train.reshape(60000,28,28,1),x_test.reshape(10000,28,28,1)\n",
        "y_train,y_test=np.array(tf.one_hot(y_train,10)),np.array(tf.one_hot(y_test,10))"
      ],
      "execution_count": 2,
      "outputs": []
    },
    {
      "cell_type": "code",
      "metadata": {
        "id": "ebaVbWyr4N76"
      },
      "source": [
        "class SubClassing(tf.keras.Model):\n",
        "  def __init__(self):\n",
        "    super(SubClassing,self).__init__()\n",
        "    self.flatten=tf.keras.layers.Flatten()\n",
        "    self.hidden=tf.keras.layers.Dense(128,activation='relu')\n",
        "    self.outputs=tf.keras.layers.Dense(10,activation='softmax')\n",
        "\n",
        "  def call(self,x):\n",
        "    x=self.flatten(x)\n",
        "    x=self.hidden(x)\n",
        "    return self.outputs(x)"
      ],
      "execution_count": 3,
      "outputs": []
    },
    {
      "cell_type": "code",
      "metadata": {
        "id": "EEml4iUT47A3"
      },
      "source": [
        "@tf.function\n",
        "def train_step(images,labels):\n",
        "  with tf.GradientTape() as tape:\n",
        "    logits=model(images)\n",
        "\n",
        "    loss_value=loss_object(y_true=labels,y_pred=logits)\n",
        "\n",
        "  grads=tape.gradient(loss_value,model.trainable_variables)\n",
        "  optimizer.apply_gradients(zip(grads,model.trainable_variables))\n",
        "  train_loss(loss_value)\n",
        "  train_accuracy(y_true=labels,y_pred=logits)"
      ],
      "execution_count": 4,
      "outputs": []
    },
    {
      "cell_type": "code",
      "metadata": {
        "id": "133yvljX52Zu"
      },
      "source": [
        "@tf.function\n",
        "def test_step(images,labels):\n",
        "  predictions=model(images)\n",
        "  t_loss=loss_object(labels,predictions)\n",
        "  test_loss(t_loss)\n",
        "  test_accuracy(labels,predictions)"
      ],
      "execution_count": 5,
      "outputs": []
    },
    {
      "cell_type": "code",
      "metadata": {
        "id": "r3uvx35S7geT"
      },
      "source": [
        "loss_object=tf.keras.losses.CategoricalCrossentropy()\n",
        "optimizer=tf.keras.optimizers.Adam()\n",
        "train_loss=tf.keras.metrics.Mean(name='train_loss')\n",
        "train_accuracy=tf.keras.metrics.CategoricalAccuracy(name='train_accuracy')\n",
        "test_loss=tf.keras.metrics.Mean(name='test_loss')\n",
        "test_accuracy=tf.keras.metrics.CategoricalAccuracy(name='test_accuracy')"
      ],
      "execution_count": 6,
      "outputs": []
    },
    {
      "cell_type": "code",
      "metadata": {
        "colab": {
          "base_uri": "https://localhost:8080/"
        },
        "id": "QE75T1YSirjA",
        "outputId": "0308dc39-090c-4c11-f81f-edf45cc12ed5"
      },
      "source": [
        "y_train[0:3]"
      ],
      "execution_count": 7,
      "outputs": [
        {
          "output_type": "execute_result",
          "data": {
            "text/plain": [
              "array([[0., 0., 0., 0., 0., 1., 0., 0., 0., 0.],\n",
              "       [1., 0., 0., 0., 0., 0., 0., 0., 0., 0.],\n",
              "       [0., 0., 0., 0., 1., 0., 0., 0., 0., 0.]], dtype=float32)"
            ]
          },
          "metadata": {
            "tags": []
          },
          "execution_count": 7
        }
      ]
    },
    {
      "cell_type": "code",
      "metadata": {
        "colab": {
          "base_uri": "https://localhost:8080/"
        },
        "id": "Mk1wdLZi9eMf",
        "outputId": "89b6090c-5531-4305-a9c2-659c8ae72089"
      },
      "source": [
        "def train(model,x_train,t_train,epochs,batch_size):\n",
        "  ds_train=tf.data.Dataset.from_tensor_slices((x_train,t_train)).shuffle(10000).batch(32)\n",
        "\n",
        "  for epoch in range(epochs):\n",
        "    for ds in ds_train:\n",
        "      train_step(ds[0],ds[1])\n",
        "\n",
        "    template='Epoch {}, Loss:{}, Accuracy:{}'\n",
        "    tf.print(template.format(epoch+1,\n",
        "                             train_loss.result(),\n",
        "                             train_accuracy.result()*100\n",
        "                             ))\n",
        "  train_loss.reset_states()\n",
        "  train_accuracy.reset_states()\n",
        "\n",
        "\n",
        "model=SubClassing()\n",
        "train(model,x_train,y_train,5,32)"
      ],
      "execution_count": 8,
      "outputs": [
        {
          "output_type": "stream",
          "text": [
            "Epoch 1, Loss:0.2679767310619354, Accuracy:92.33000183105469\n",
            "Epoch 2, Loss:0.19234006106853485, Accuracy:94.48583221435547\n",
            "Epoch 3, Loss:0.15503542125225067, Accuracy:95.50333404541016\n",
            "Epoch 4, Loss:0.13106630742549896, Accuracy:96.16542053222656\n",
            "Epoch 5, Loss:0.11420044302940369, Accuracy:96.63866424560547\n"
          ],
          "name": "stdout"
        }
      ]
    },
    {
      "cell_type": "code",
      "metadata": {
        "id": "wAVtvPKZA3qs",
        "colab": {
          "base_uri": "https://localhost:8080/"
        },
        "outputId": "32f04b6f-b7f2-4dea-98d9-8a1521171624"
      },
      "source": [
        "ds_test=tf.data.Dataset.from_tensor_slices((x_test,y_test)).shuffle(10000).batch(32)\n",
        "for ds in ds_test:\n",
        "  test_step(ds[0],ds[1])\n",
        "template='Loss:{}, Accuracy:{}'\n",
        "print(template.format(test_loss.result(),test_accuracy.result()*100))"
      ],
      "execution_count": 9,
      "outputs": [
        {
          "output_type": "stream",
          "text": [
            "Loss:0.07553506642580032, Accuracy:97.64999389648438\n"
          ],
          "name": "stdout"
        }
      ]
    }
  ]
}