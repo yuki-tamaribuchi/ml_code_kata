{
  "nbformat": 4,
  "nbformat_minor": 0,
  "metadata": {
    "colab": {
      "name": "titanic_dp_20210302.ipynb",
      "provenance": [],
      "mount_file_id": "1QbqOZxcOT6kovozJ1347nH_SHp2fJsWn",
      "authorship_tag": "ABX9TyMP9P9dwYC2QOFADjSV3qUy",
      "include_colab_link": true
    },
    "kernelspec": {
      "name": "python3",
      "display_name": "Python 3"
    }
  },
  "cells": [
    {
      "cell_type": "markdown",
      "metadata": {
        "id": "view-in-github",
        "colab_type": "text"
      },
      "source": [
        "<a href=\"https://colab.research.google.com/github/yuki-tamaribuchi/ml_code_kata/blob/master/titanic_dp_20210302.ipynb\" target=\"_parent\"><img src=\"https://colab.research.google.com/assets/colab-badge.svg\" alt=\"Open In Colab\"/></a>"
      ]
    },
    {
      "cell_type": "code",
      "metadata": {
        "id": "NrYRqS8ApYwE"
      },
      "source": [
        "!mkdir /root/.kaggle\n",
        "!cp /content/drive/MyDrive/kaggle/kaggle.json /root/.kaggle"
      ],
      "execution_count": 1,
      "outputs": []
    },
    {
      "cell_type": "code",
      "metadata": {
        "colab": {
          "base_uri": "https://localhost:8080/"
        },
        "id": "Ey8AWi5Rpq7a",
        "outputId": "d5352014-6bac-4cbb-a0ec-fef49bf27035"
      },
      "source": [
        "!kaggle competitions download -c titanic"
      ],
      "execution_count": 2,
      "outputs": [
        {
          "output_type": "stream",
          "text": [
            "Warning: Looks like you're using an outdated API Version, please consider updating (server 1.5.10 / client 1.5.4)\n",
            "Downloading gender_submission.csv to /content\n",
            "  0% 0.00/3.18k [00:00<?, ?B/s]\n",
            "100% 3.18k/3.18k [00:00<00:00, 5.35MB/s]\n",
            "Downloading test.csv to /content\n",
            "  0% 0.00/28.0k [00:00<?, ?B/s]\n",
            "100% 28.0k/28.0k [00:00<00:00, 22.6MB/s]\n",
            "Downloading train.csv to /content\n",
            "  0% 0.00/59.8k [00:00<?, ?B/s]\n",
            "100% 59.8k/59.8k [00:00<00:00, 60.6MB/s]\n"
          ],
          "name": "stdout"
        }
      ]
    },
    {
      "cell_type": "code",
      "metadata": {
        "id": "ICkLkW8KptFR"
      },
      "source": [
        "import numpy as np\n",
        "import pandas as pd\n",
        "import seaborn as sns\n",
        "import matplotlib.pyplot as plt"
      ],
      "execution_count": 3,
      "outputs": []
    },
    {
      "cell_type": "code",
      "metadata": {
        "id": "vZ77Sag4qCPg"
      },
      "source": [
        "train_df=pd.read_csv('train.csv')\n",
        "train_df['Age']=train_df['Age'].fillna(train_df['Age'].mean())\n",
        "train_df['Embarked']=train_df['Embarked'].fillna(train_df['Embarked'].mode()[0])\n",
        "\n",
        "sex_dummies=pd.get_dummies(train_df['Sex'],prefix='Sex')\n",
        "embarked_dummies=pd.get_dummies(train_df['Embarked'],prefix='Embarked')\n",
        "\n",
        "\n",
        "train_df=pd.concat([train_df,sex_dummies,embarked_dummies],axis=1)\n",
        "train_df=train_df.drop(['PassengerId',\n",
        "                        'Name',\n",
        "                        'Ticket',\n",
        "                        'Cabin',\n",
        "                        'Sex',\n",
        "                        'Embarked',\n",
        "                        'Sex_female',\n",
        "                        'Embarked_C',\n",
        "                        ],\n",
        "                       axis=1)\n",
        "\n",
        "train_df['Fare']=np.log(train_df['Fare']+1)\n",
        "train_df['Age']=np.log(train_df['Age']+1)"
      ],
      "execution_count": 10,
      "outputs": []
    },
    {
      "cell_type": "code",
      "metadata": {
        "colab": {
          "base_uri": "https://localhost:8080/"
        },
        "id": "xlgrKBdjqLuD",
        "outputId": "b6f55542-10db-4032-cdc6-bcc4e7d0d03c"
      },
      "source": [
        "train_df.info()"
      ],
      "execution_count": null,
      "outputs": [
        {
          "output_type": "stream",
          "text": [
            "<class 'pandas.core.frame.DataFrame'>\n",
            "RangeIndex: 891 entries, 0 to 890\n",
            "Data columns (total 10 columns):\n",
            " #   Column      Non-Null Count  Dtype  \n",
            "---  ------      --------------  -----  \n",
            " 0   Survived    891 non-null    int64  \n",
            " 1   Age         891 non-null    float64\n",
            " 2   SibSp       891 non-null    int64  \n",
            " 3   Parch       891 non-null    int64  \n",
            " 4   Fare        891 non-null    float64\n",
            " 5   Sex_male    891 non-null    uint8  \n",
            " 6   Embarked_Q  891 non-null    uint8  \n",
            " 7   Embarked_S  891 non-null    uint8  \n",
            " 8   Pclass_2    891 non-null    uint8  \n",
            " 9   Pclass_3    891 non-null    uint8  \n",
            "dtypes: float64(2), int64(3), uint8(5)\n",
            "memory usage: 39.3 KB\n"
          ],
          "name": "stdout"
        }
      ]
    },
    {
      "cell_type": "code",
      "metadata": {
        "colab": {
          "base_uri": "https://localhost:8080/",
          "height": 320
        },
        "id": "kelQdkbhJ8TT",
        "outputId": "d0397ba2-876d-4bc9-c755-2144811286ea"
      },
      "source": [
        "train_df.describe()"
      ],
      "execution_count": null,
      "outputs": [
        {
          "output_type": "execute_result",
          "data": {
            "text/html": [
              "<div>\n",
              "<style scoped>\n",
              "    .dataframe tbody tr th:only-of-type {\n",
              "        vertical-align: middle;\n",
              "    }\n",
              "\n",
              "    .dataframe tbody tr th {\n",
              "        vertical-align: top;\n",
              "    }\n",
              "\n",
              "    .dataframe thead th {\n",
              "        text-align: right;\n",
              "    }\n",
              "</style>\n",
              "<table border=\"1\" class=\"dataframe\">\n",
              "  <thead>\n",
              "    <tr style=\"text-align: right;\">\n",
              "      <th></th>\n",
              "      <th>Survived</th>\n",
              "      <th>Age</th>\n",
              "      <th>SibSp</th>\n",
              "      <th>Parch</th>\n",
              "      <th>Fare</th>\n",
              "      <th>Sex_male</th>\n",
              "      <th>Embarked_Q</th>\n",
              "      <th>Embarked_S</th>\n",
              "      <th>Pclass_2</th>\n",
              "      <th>Pclass_3</th>\n",
              "    </tr>\n",
              "  </thead>\n",
              "  <tbody>\n",
              "    <tr>\n",
              "      <th>count</th>\n",
              "      <td>891.000000</td>\n",
              "      <td>891.000000</td>\n",
              "      <td>891.000000</td>\n",
              "      <td>891.000000</td>\n",
              "      <td>891.000000</td>\n",
              "      <td>891.000000</td>\n",
              "      <td>891.000000</td>\n",
              "      <td>891.000000</td>\n",
              "      <td>891.000000</td>\n",
              "      <td>891.000000</td>\n",
              "    </tr>\n",
              "    <tr>\n",
              "      <th>mean</th>\n",
              "      <td>0.383838</td>\n",
              "      <td>3.291723</td>\n",
              "      <td>0.523008</td>\n",
              "      <td>0.381594</td>\n",
              "      <td>2.962246</td>\n",
              "      <td>0.647587</td>\n",
              "      <td>0.086420</td>\n",
              "      <td>0.725028</td>\n",
              "      <td>0.206510</td>\n",
              "      <td>0.551066</td>\n",
              "    </tr>\n",
              "    <tr>\n",
              "      <th>std</th>\n",
              "      <td>0.486592</td>\n",
              "      <td>0.615804</td>\n",
              "      <td>1.102743</td>\n",
              "      <td>0.806057</td>\n",
              "      <td>0.969048</td>\n",
              "      <td>0.477990</td>\n",
              "      <td>0.281141</td>\n",
              "      <td>0.446751</td>\n",
              "      <td>0.405028</td>\n",
              "      <td>0.497665</td>\n",
              "    </tr>\n",
              "    <tr>\n",
              "      <th>min</th>\n",
              "      <td>0.000000</td>\n",
              "      <td>0.350657</td>\n",
              "      <td>0.000000</td>\n",
              "      <td>0.000000</td>\n",
              "      <td>0.000000</td>\n",
              "      <td>0.000000</td>\n",
              "      <td>0.000000</td>\n",
              "      <td>0.000000</td>\n",
              "      <td>0.000000</td>\n",
              "      <td>0.000000</td>\n",
              "    </tr>\n",
              "    <tr>\n",
              "      <th>25%</th>\n",
              "      <td>0.000000</td>\n",
              "      <td>3.135494</td>\n",
              "      <td>0.000000</td>\n",
              "      <td>0.000000</td>\n",
              "      <td>2.187218</td>\n",
              "      <td>0.000000</td>\n",
              "      <td>0.000000</td>\n",
              "      <td>0.000000</td>\n",
              "      <td>0.000000</td>\n",
              "      <td>0.000000</td>\n",
              "    </tr>\n",
              "    <tr>\n",
              "      <th>50%</th>\n",
              "      <td>0.000000</td>\n",
              "      <td>3.424234</td>\n",
              "      <td>0.000000</td>\n",
              "      <td>0.000000</td>\n",
              "      <td>2.737881</td>\n",
              "      <td>1.000000</td>\n",
              "      <td>0.000000</td>\n",
              "      <td>1.000000</td>\n",
              "      <td>0.000000</td>\n",
              "      <td>1.000000</td>\n",
              "    </tr>\n",
              "    <tr>\n",
              "      <th>75%</th>\n",
              "      <td>1.000000</td>\n",
              "      <td>3.583519</td>\n",
              "      <td>1.000000</td>\n",
              "      <td>0.000000</td>\n",
              "      <td>3.465736</td>\n",
              "      <td>1.000000</td>\n",
              "      <td>0.000000</td>\n",
              "      <td>1.000000</td>\n",
              "      <td>0.000000</td>\n",
              "      <td>1.000000</td>\n",
              "    </tr>\n",
              "    <tr>\n",
              "      <th>max</th>\n",
              "      <td>1.000000</td>\n",
              "      <td>4.394449</td>\n",
              "      <td>8.000000</td>\n",
              "      <td>6.000000</td>\n",
              "      <td>6.240917</td>\n",
              "      <td>1.000000</td>\n",
              "      <td>1.000000</td>\n",
              "      <td>1.000000</td>\n",
              "      <td>1.000000</td>\n",
              "      <td>1.000000</td>\n",
              "    </tr>\n",
              "  </tbody>\n",
              "</table>\n",
              "</div>"
            ],
            "text/plain": [
              "         Survived         Age       SibSp  ...  Embarked_S    Pclass_2    Pclass_3\n",
              "count  891.000000  891.000000  891.000000  ...  891.000000  891.000000  891.000000\n",
              "mean     0.383838    3.291723    0.523008  ...    0.725028    0.206510    0.551066\n",
              "std      0.486592    0.615804    1.102743  ...    0.446751    0.405028    0.497665\n",
              "min      0.000000    0.350657    0.000000  ...    0.000000    0.000000    0.000000\n",
              "25%      0.000000    3.135494    0.000000  ...    0.000000    0.000000    0.000000\n",
              "50%      0.000000    3.424234    0.000000  ...    1.000000    0.000000    1.000000\n",
              "75%      1.000000    3.583519    1.000000  ...    1.000000    0.000000    1.000000\n",
              "max      1.000000    4.394449    8.000000  ...    1.000000    1.000000    1.000000\n",
              "\n",
              "[8 rows x 10 columns]"
            ]
          },
          "metadata": {
            "tags": []
          },
          "execution_count": 14
        }
      ]
    },
    {
      "cell_type": "code",
      "metadata": {
        "id": "rVELnUGz7vkp",
        "colab": {
          "base_uri": "https://localhost:8080/",
          "height": 1000
        },
        "outputId": "f0bdea5e-ad12-4d78-b2f3-9aa2fbf98ec6"
      },
      "source": [
        "for col in train_df:\n",
        "  plt.figure()\n",
        "  sns.histplot(train_df[col])"
      ],
      "execution_count": null,
      "outputs": [
        {
          "output_type": "display_data",
          "data": {
            "image/png": "[encoded data removed]",
            "text/plain": [
              "<Figure size 432x288 with 1 Axes>"
            ]
          },
          "metadata": {
            "tags": [],
            "needs_background": "light"
          }
        },
        {
          "output_type": "display_data",
          "data": {
            "image/png": "[encoded data removed]",
            "text/plain": [
              "<Figure size 432x288 with 1 Axes>"
            ]
          },
          "metadata": {
            "tags": [],
            "needs_background": "light"
          }
        },
        {
          "output_type": "display_data",
          "data": {
            "image/png": "[encoded data removed]",
            "text/plain": [
              "<Figure size 432x288 with 1 Axes>"
            ]
          },
          "metadata": {
            "tags": [],
            "needs_background": "light"
          }
        },
        {
          "output_type": "display_data",
          "data": {
            "image/png": "[encoded data removed]",
            "text/plain": [
              "<Figure size 432x288 with 1 Axes>"
            ]
          },
          "metadata": {
            "tags": [],
            "needs_background": "light"
          }
        },
        {
          "output_type": "display_data",
          "data": {
            "image/png": "[encoded data removed]",
            "text/plain": [
              "<Figure size 432x288 with 1 Axes>"
            ]
          },
          "metadata": {
            "tags": [],
            "needs_background": "light"
          }
        },
        {
          "output_type": "display_data",
          "data": {
            "image/png": "[encoded data removed]",
            "text/plain": [
              "<Figure size 432x288 with 1 Axes>"
            ]
          },
          "metadata": {
            "tags": [],
            "needs_background": "light"
          }
        },
        {
          "output_type": "display_data",
          "data": {
            "image/png": "[encoded data removed]",
            "text/plain": [
              "<Figure size 432x288 with 1 Axes>"
            ]
          },
          "metadata": {
            "tags": [],
            "needs_background": "light"
          }
        },
        {
          "output_type": "display_data",
          "data": {
            "image/png": "[encoded data removed]",
            "text/plain": [
              "<Figure size 432x288 with 1 Axes>"
            ]
          },
          "metadata": {
            "tags": [],
            "needs_background": "light"
          }
        },
        {
          "output_type": "display_data",
          "data": {
            "image/png": "[encoded data removed]",
            "text/plain": [
              "<Figure size 432x288 with 1 Axes>"
            ]
          },
          "metadata": {
            "tags": [],
            "needs_background": "light"
          }
        },
        {
          "output_type": "display_data",
          "data": {
            "image/png": "[encoded data removed]",
            "text/plain": [
              "<Figure size 432x288 with 1 Axes>"
            ]
          },
          "metadata": {
            "tags": [],
            "needs_background": "light"
          }
        }
      ]
    },
    {
      "cell_type": "code",
      "metadata": {
        "id": "qU_JsU2wvSnU"
      },
      "source": [
        "def calc_vif(input_df):\n",
        "  from statsmodels.stats.outliers_influence import variance_inflation_factor\n",
        "  vif=pd.DataFrame()\n",
        "  vif['VIF Factor']=[variance_inflation_factor(input_df.values,i) for i in range(input_df.shape[1])]\n",
        "  vif['features']=input_df.columns\n",
        "\n",
        "  print(vif)"
      ],
      "execution_count": null,
      "outputs": []
    },
    {
      "cell_type": "code",
      "metadata": {
        "colab": {
          "base_uri": "https://localhost:8080/"
        },
        "id": "6IhPSqmJy4_i",
        "outputId": "b209e52b-b2d0-4be5-cef4-9cee959dc7a1"
      },
      "source": [
        "calc_vif(train_df)"
      ],
      "execution_count": null,
      "outputs": [
        {
          "output_type": "stream",
          "text": [
            "   VIF Factor    features\n",
            "0    2.479779    Survived\n",
            "1   21.477799         Age\n",
            "2    1.847145       SibSp\n",
            "3    1.784979       Parch\n",
            "4   17.371404        Fare\n",
            "5    3.937997    Sex_male\n",
            "6    1.622909  Embarked_Q\n",
            "7    5.231121  Embarked_S\n",
            "8    2.025133    Pclass_2\n",
            "9    4.259561    Pclass_3\n"
          ],
          "name": "stdout"
        },
        {
          "output_type": "stream",
          "text": [
            "/usr/local/lib/python3.7/dist-packages/statsmodels/tools/_testing.py:19: FutureWarning: pandas.util.testing is deprecated. Use the functions in the public API at pandas.testing instead.\n",
            "  import pandas.util.testing as tm\n"
          ],
          "name": "stderr"
        }
      ]
    },
    {
      "cell_type": "code",
      "metadata": {
        "colab": {
          "base_uri": "https://localhost:8080/"
        },
        "id": "IVO8xRVy4yFM",
        "outputId": "42787c5e-55a4-4e85-f46e-c9f6c22e03b8"
      },
      "source": [
        "X_df.keys()"
      ],
      "execution_count": null,
      "outputs": [
        {
          "output_type": "execute_result",
          "data": {
            "text/plain": [
              "Index(['Age', 'SibSp', 'Parch', 'Fare', 'Sex_male', 'Embarked_Q', 'Embarked_S',\n",
              "       'Pclass_2', 'Pclass_3'],\n",
              "      dtype='object')"
            ]
          },
          "metadata": {
            "tags": []
          },
          "execution_count": 23
        }
      ]
    },
    {
      "cell_type": "code",
      "metadata": {
        "id": "O737CcZR4-ar"
      },
      "source": [
        "numerical_columns=['Age','Fare']\n",
        "categorical_columns=['Sex_male','Embarked_Q','Embarked_S','Pclass_2','Pclass_3']\n"
      ],
      "execution_count": null,
      "outputs": []
    },
    {
      "cell_type": "code",
      "metadata": {
        "id": "-I7hsUnf4Pyi"
      },
      "source": [
        "from sklearn.preprocessing import StandardScaler\n",
        "X_df=train_df.drop(['Survived'],axis=1)\n",
        "y_df=train_df['Survived']\n",
        "scaler=StandardScaler()\n",
        "X_df=pd.DataFrame(scaler.fit_transform(X_df),columns=X_df.columns)"
      ],
      "execution_count": null,
      "outputs": []
    },
    {
      "cell_type": "code",
      "metadata": {
        "colab": {
          "base_uri": "https://localhost:8080/",
          "height": 424
        },
        "id": "i27OWaca5x92",
        "outputId": "1c69ed4b-aa96-4992-e5ba-c4a118cfc347"
      },
      "source": [
        "X_df"
      ],
      "execution_count": null,
      "outputs": [
        {
          "output_type": "execute_result",
          "data": {
            "text/html": [
              "<div>\n",
              "<style scoped>\n",
              "    .dataframe tbody tr th:only-of-type {\n",
              "        vertical-align: middle;\n",
              "    }\n",
              "\n",
              "    .dataframe tbody tr th {\n",
              "        vertical-align: top;\n",
              "    }\n",
              "\n",
              "    .dataframe thead th {\n",
              "        text-align: right;\n",
              "    }\n",
              "</style>\n",
              "<table border=\"1\" class=\"dataframe\">\n",
              "  <thead>\n",
              "    <tr style=\"text-align: right;\">\n",
              "      <th></th>\n",
              "      <th>Age</th>\n",
              "      <th>SibSp</th>\n",
              "      <th>Parch</th>\n",
              "      <th>Fare</th>\n",
              "      <th>Sex_male</th>\n",
              "      <th>Embarked_Q</th>\n",
              "      <th>Embarked_S</th>\n",
              "      <th>Pclass_2</th>\n",
              "      <th>Pclass_3</th>\n",
              "    </tr>\n",
              "  </thead>\n",
              "  <tbody>\n",
              "    <tr>\n",
              "      <th>0</th>\n",
              "      <td>-0.253842</td>\n",
              "      <td>0.432793</td>\n",
              "      <td>-0.473674</td>\n",
              "      <td>-0.879741</td>\n",
              "      <td>0.737695</td>\n",
              "      <td>-0.307562</td>\n",
              "      <td>0.615838</td>\n",
              "      <td>-0.510152</td>\n",
              "      <td>0.902587</td>\n",
              "    </tr>\n",
              "    <tr>\n",
              "      <th>1</th>\n",
              "      <td>0.604165</td>\n",
              "      <td>0.432793</td>\n",
              "      <td>-0.473674</td>\n",
              "      <td>1.361220</td>\n",
              "      <td>-1.355574</td>\n",
              "      <td>-0.307562</td>\n",
              "      <td>-1.623803</td>\n",
              "      <td>-0.510152</td>\n",
              "      <td>-1.107926</td>\n",
              "    </tr>\n",
              "    <tr>\n",
              "      <th>2</th>\n",
              "      <td>0.006684</td>\n",
              "      <td>-0.474545</td>\n",
              "      <td>-0.473674</td>\n",
              "      <td>-0.798540</td>\n",
              "      <td>-1.355574</td>\n",
              "      <td>-0.307562</td>\n",
              "      <td>0.615838</td>\n",
              "      <td>-0.510152</td>\n",
              "      <td>0.902587</td>\n",
              "    </tr>\n",
              "    <tr>\n",
              "      <th>3</th>\n",
              "      <td>0.474111</td>\n",
              "      <td>0.432793</td>\n",
              "      <td>-0.473674</td>\n",
              "      <td>1.062038</td>\n",
              "      <td>-1.355574</td>\n",
              "      <td>-0.307562</td>\n",
              "      <td>0.615838</td>\n",
              "      <td>-0.510152</td>\n",
              "      <td>-1.107926</td>\n",
              "    </tr>\n",
              "    <tr>\n",
              "      <th>4</th>\n",
              "      <td>0.474111</td>\n",
              "      <td>-0.474545</td>\n",
              "      <td>-0.473674</td>\n",
              "      <td>-0.784179</td>\n",
              "      <td>0.737695</td>\n",
              "      <td>-0.307562</td>\n",
              "      <td>0.615838</td>\n",
              "      <td>-0.510152</td>\n",
              "      <td>0.902587</td>\n",
              "    </tr>\n",
              "    <tr>\n",
              "      <th>...</th>\n",
              "      <td>...</td>\n",
              "      <td>...</td>\n",
              "      <td>...</td>\n",
              "      <td>...</td>\n",
              "      <td>...</td>\n",
              "      <td>...</td>\n",
              "      <td>...</td>\n",
              "      <td>...</td>\n",
              "      <td>...</td>\n",
              "    </tr>\n",
              "    <tr>\n",
              "      <th>886</th>\n",
              "      <td>0.065774</td>\n",
              "      <td>-0.474545</td>\n",
              "      <td>-0.473674</td>\n",
              "      <td>-0.333698</td>\n",
              "      <td>0.737695</td>\n",
              "      <td>-0.307562</td>\n",
              "      <td>0.615838</td>\n",
              "      <td>1.960202</td>\n",
              "      <td>-1.107926</td>\n",
              "    </tr>\n",
              "    <tr>\n",
              "      <th>887</th>\n",
              "      <td>-0.480928</td>\n",
              "      <td>-0.474545</td>\n",
              "      <td>-0.473674</td>\n",
              "      <td>0.487082</td>\n",
              "      <td>-1.355574</td>\n",
              "      <td>-0.307562</td>\n",
              "      <td>0.615838</td>\n",
              "      <td>-0.510152</td>\n",
              "      <td>-1.107926</td>\n",
              "    </tr>\n",
              "    <tr>\n",
              "      <th>888</th>\n",
              "      <td>0.215304</td>\n",
              "      <td>0.432793</td>\n",
              "      <td>2.008933</td>\n",
              "      <td>0.242007</td>\n",
              "      <td>-1.355574</td>\n",
              "      <td>-0.307562</td>\n",
              "      <td>0.615838</td>\n",
              "      <td>-0.510152</td>\n",
              "      <td>0.902587</td>\n",
              "    </tr>\n",
              "    <tr>\n",
              "      <th>889</th>\n",
              "      <td>0.006684</td>\n",
              "      <td>-0.474545</td>\n",
              "      <td>-0.473674</td>\n",
              "      <td>0.487082</td>\n",
              "      <td>0.737695</td>\n",
              "      <td>-0.307562</td>\n",
              "      <td>-1.623803</td>\n",
              "      <td>-0.510152</td>\n",
              "      <td>-1.107926</td>\n",
              "    </tr>\n",
              "    <tr>\n",
              "      <th>890</th>\n",
              "      <td>0.332734</td>\n",
              "      <td>-0.474545</td>\n",
              "      <td>-0.473674</td>\n",
              "      <td>-0.818987</td>\n",
              "      <td>0.737695</td>\n",
              "      <td>3.251373</td>\n",
              "      <td>-1.623803</td>\n",
              "      <td>-0.510152</td>\n",
              "      <td>0.902587</td>\n",
              "    </tr>\n",
              "  </tbody>\n",
              "</table>\n",
              "<p>891 rows × 9 columns</p>\n",
              "</div>"
            ],
            "text/plain": [
              "          Age     SibSp     Parch  ...  Embarked_S  Pclass_2  Pclass_3\n",
              "0   -0.253842  0.432793 -0.473674  ...    0.615838 -0.510152  0.902587\n",
              "1    0.604165  0.432793 -0.473674  ...   -1.623803 -0.510152 -1.107926\n",
              "2    0.006684 -0.474545 -0.473674  ...    0.615838 -0.510152  0.902587\n",
              "3    0.474111  0.432793 -0.473674  ...    0.615838 -0.510152 -1.107926\n",
              "4    0.474111 -0.474545 -0.473674  ...    0.615838 -0.510152  0.902587\n",
              "..        ...       ...       ...  ...         ...       ...       ...\n",
              "886  0.065774 -0.474545 -0.473674  ...    0.615838  1.960202 -1.107926\n",
              "887 -0.480928 -0.474545 -0.473674  ...    0.615838 -0.510152 -1.107926\n",
              "888  0.215304  0.432793  2.008933  ...    0.615838 -0.510152  0.902587\n",
              "889  0.006684 -0.474545 -0.473674  ...   -1.623803 -0.510152 -1.107926\n",
              "890  0.332734 -0.474545 -0.473674  ...   -1.623803 -0.510152  0.902587\n",
              "\n",
              "[891 rows x 9 columns]"
            ]
          },
          "metadata": {
            "tags": []
          },
          "execution_count": 19
        }
      ]
    },
    {
      "cell_type": "code",
      "metadata": {
        "colab": {
          "base_uri": "https://localhost:8080/",
          "height": 178
        },
        "id": "AG_7Hw5aKb5m",
        "outputId": "fdbad225-9805-4842-d75a-0b198093547d"
      },
      "source": [
        ""
      ],
      "execution_count": null,
      "outputs": [
        {
          "output_type": "error",
          "ename": "NameError",
          "evalue": "ignored",
          "traceback": [
            "\u001b[0;31m---------------------------------------------------------------------------\u001b[0m",
            "\u001b[0;31mNameError\u001b[0m                                 Traceback (most recent call last)",
            "\u001b[0;32m<ipython-input-20-b5fec669aca1>\u001b[0m in \u001b[0;36m<module>\u001b[0;34m()\u001b[0m\n\u001b[0;32m----> 1\u001b[0;31m \u001b[0mX\u001b[0m\u001b[0;34m\u001b[0m\u001b[0;34m\u001b[0m\u001b[0m\n\u001b[0m",
            "\u001b[0;31mNameError\u001b[0m: name 'X' is not defined"
          ]
        }
      ]
    }
  ]
}